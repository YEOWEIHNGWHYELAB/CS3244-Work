{
  "nbformat": 4,
  "nbformat_minor": 0,
  "metadata": {
    "colab": {
      "provenance": [],
      "collapsed_sections": [],
      "include_colab_link": true
    },
    "kernelspec": {
      "name": "python3",
      "display_name": "Python 3"
    },
    "language_info": {
      "name": "python"
    },
    "accelerator": "GPU"
  },
  "cells": [
    {
      "cell_type": "markdown",
      "metadata": {
        "id": "view-in-github",
        "colab_type": "text"
      },
      "source": [
        "<a href=\"https://colab.research.google.com/github/YEOWEIHNGWHYELAB/CS3244-Work/blob/main/Copy_of_CS3244_PyTorch_Refresher_Session_1_(Student_Copy%2C_Completed).ipynb\" target=\"_parent\"><img src=\"https://colab.research.google.com/assets/colab-badge.svg\" alt=\"Open In Colab\"/></a>"
      ]
    },
    {
      "cell_type": "markdown",
      "source": [
        "![Machine Learning](https://www.comp.nus.edu.sg/~cs3244/AY22S1/2210-header.png)\n",
        "---\n",
        "\n",
        "# PyTorch Refresher\n",
        "\n",
        "Here, we're covering basic and intermediate level features of `pytorch`. \n",
        "\n",
        "\n",
        "> This is a purely TA-led initiative and we appreciate the Profs' guidance and support. \n",
        "\n",
        " The following notebook is meant to give a short introduction to PyTorch basics, and get you setup for writing your own neural networks. PyTorch is an open source machine learning framework that allows you to write your own neural networks and optimize them efficiently. However, PyTorch is not the only framework of its kind. Alternatives to PyTorch include TensorFlow, JAX and Caffe. We choose to teach PyTorch because it is well established, has a huge developer community (originally developed by Facebook), is very flexible and especially used in research. Many current papers publish their code in PyTorch, and thus it is good to be familiar with PyTorch as well. Meanwhile, TensorFlow (developed by Google) is usually known for being a production-grade deep learning library. Still, if you know one machine learning framework in depth, it is very easy to learn another one because many of them use the same concepts and ideas. For instance, TensorFlow’s version 2 was heavily inspired by the most popular features of PyTorch, making the frameworks even more similar. If you are already familiar with PyTorch and have created your own neural network projects, feel free to just skim this notebook.\n",
        "\n",
        "#Credits\n",
        "\n",
        "Most part of the notebook is adapted from https://uvadlc-notebooks.readthedocs.io/en/latest/tutorial_notebooks/tutorial2/Introduction_to_PyTorch.html. "
      ],
      "metadata": {
        "id": "1WqOOoIpg0On"
      }
    },
    {
      "cell_type": "markdown",
      "source": [],
      "metadata": {
        "id": "On3WaCvv3e07"
      }
    },
    {
      "cell_type": "code",
      "source": [
        "import os\n",
        "import math\n",
        "import numpy as np\n",
        "import time\n",
        "\n",
        "## Imports for plotting\n",
        "import matplotlib.pyplot as plt\n",
        "%matplotlib inline\n",
        "from IPython.display import set_matplotlib_formats\n",
        "set_matplotlib_formats('svg', 'pdf') # For export\n",
        "from matplotlib.colors import to_rgba\n",
        "import seaborn as sns\n",
        "sns.set()\n",
        "\n",
        "## Progress bar\n",
        "from tqdm.notebook import tqdm"
      ],
      "metadata": {
        "id": "C7sTcxuyyEPk"
      },
      "execution_count": null,
      "outputs": []
    },
    {
      "cell_type": "markdown",
      "source": [
        "##The Basics of PyTorch"
      ],
      "metadata": {
        "id": "XTQqu8qOHgqw"
      }
    },
    {
      "cell_type": "markdown",
      "source": [
        "We will start with reviewing the very basic concepts of PyTorch. As a prerequisite, we recommend to be familiar with the numpy package as most machine learning frameworks are based on very similar concepts. If you are not familiar with numpy yet, don’t worry: here is a tutorial to go through.\n",
        "\n",
        "So, let’s start with importing PyTorch. The package is called torch, based on its original framework Torch. As a first step, we can check its version:"
      ],
      "metadata": {
        "id": "COm8potDHldA"
      }
    },
    {
      "cell_type": "code",
      "source": [
        "import torch\n",
        "print(\"Using torch\", torch.__version__)"
      ],
      "metadata": {
        "colab": {
          "base_uri": "https://localhost:8080/"
        },
        "id": "DqQ94_etyJhA",
        "outputId": "2fbce66d-d222-48fb-cbc5-e981eeeab4c2"
      },
      "execution_count": null,
      "outputs": [
        {
          "output_type": "stream",
          "name": "stdout",
          "text": [
            "Using torch 1.12.1+cu113\n"
          ]
        }
      ]
    },
    {
      "cell_type": "markdown",
      "source": [
        "At the time of writing this tutorial (mid of October 2022), the current stable version is 1.12.1. \n",
        "\n",
        "As in every machine learning framework, PyTorch provides functions that are stochastic like generating random numbers. However, a very good practice is to setup your code to be reproducible with the exact same random numbers. This is why we set a seed below."
      ],
      "metadata": {
        "id": "6aH6q6AFHrik"
      }
    },
    {
      "cell_type": "code",
      "source": [
        "# Setting the seed\n",
        "torch.manual_seed(42)"
      ],
      "metadata": {
        "colab": {
          "base_uri": "https://localhost:8080/"
        },
        "id": "u1qyg3xqyOFx",
        "outputId": "fe6ab086-edf8-4a3f-d160-62701163cf98"
      },
      "execution_count": null,
      "outputs": [
        {
          "output_type": "execute_result",
          "data": {
            "text/plain": [
              "<torch._C.Generator at 0x7f2458ea4850>"
            ]
          },
          "metadata": {},
          "execution_count": 3
        }
      ]
    },
    {
      "cell_type": "markdown",
      "source": [
        "##Tensors\n",
        "\n",
        "Tensors are the PyTorch equivalent to Numpy arrays, with the addition to also have support for GPU acceleration (more on that later). The name “tensor” is a generalization of concepts you already know. For instance, a vector is a 1-D tensor, and a matrix a 2-D tensor. When working with neural networks, we will use tensors of various shapes and number of dimensions.\n",
        "\n",
        "Most common functions you know from numpy can be used on tensors as well. Actually, since numpy arrays are so similar to tensors, we can convert most tensors to numpy arrays (and back) but we don’t need it too often."
      ],
      "metadata": {
        "id": "azGC0KDrH0Tw"
      }
    },
    {
      "cell_type": "markdown",
      "source": [
        "##Initialization\n",
        "\n",
        "Let’s first start by looking at different ways of creating a tensor. There are many possible options, the simplest one is to call [torch.Tensor](https://pytorch.org/docs/stable/tensors.html) passing the desired shape as input argument:"
      ],
      "metadata": {
        "id": "bIusvjZ7H7p0"
      }
    },
    {
      "cell_type": "code",
      "source": [
        "# create a tensor of shape (2,3,4) \n",
        "torch.rand(2, 3, 4)"
      ],
      "metadata": {
        "colab": {
          "base_uri": "https://localhost:8080/"
        },
        "id": "CX5g7DQryQUt",
        "outputId": "c8b9aecd-da15-4692-aedc-512a4ed79a19"
      },
      "execution_count": null,
      "outputs": [
        {
          "output_type": "execute_result",
          "data": {
            "text/plain": [
              "tensor([[[0.8823, 0.9150, 0.3829, 0.9593],\n",
              "         [0.3904, 0.6009, 0.2566, 0.7936],\n",
              "         [0.9408, 0.1332, 0.9346, 0.5936]],\n",
              "\n",
              "        [[0.8694, 0.5677, 0.7411, 0.4294],\n",
              "         [0.8854, 0.5739, 0.2666, 0.6274],\n",
              "         [0.2696, 0.4414, 0.2969, 0.8317]]])"
            ]
          },
          "metadata": {},
          "execution_count": 4
        }
      ]
    },
    {
      "cell_type": "markdown",
      "source": [
        "The function [torch.tensor](https://pytorch.org/docs/stable/tensors.html) allocates memory for the desired tensor, but reuses any values that have already been in the memory. To directly assign values to the tensor during initialization, there are many alternatives including:\n",
        "\n",
        "[torch.zeros](https://pytorch.org/docs/stable/generated/torch.zeros.html): Creates a tensor filled with zeros\n",
        "\n",
        "[torch.ones](): Creates a tensor filled with ones\n",
        "\n",
        "<font color='red'>torch.rand</font>: Creates a tensor with random values uniformly sampled between 0 and 1\n",
        "\n",
        "<font color='red'>torch.randn</font>: Creates a tensor with random values sampled from a normal distribution with mean 0 and variance 1\n",
        "\n",
        "<font color='red'>torch.arange</font>: Creates a tensor containing the values \n",
        "\n",
        "<font color='red'>torch.Tensor (input list)</font>: Creates a tensor from the list elements you provide"
      ],
      "metadata": {
        "id": "lOsj5RZ2IJdp"
      }
    },
    {
      "cell_type": "code",
      "source": [
        "torch.zeros(2, 3, 4)"
      ],
      "metadata": {
        "colab": {
          "base_uri": "https://localhost:8080/"
        },
        "id": "QzieIpGYCdVI",
        "outputId": "7209a86d-11b2-4983-d322-2fc08060a607"
      },
      "execution_count": null,
      "outputs": [
        {
          "output_type": "execute_result",
          "data": {
            "text/plain": [
              "tensor([[[0., 0., 0., 0.],\n",
              "         [0., 0., 0., 0.],\n",
              "         [0., 0., 0., 0.]],\n",
              "\n",
              "        [[0., 0., 0., 0.],\n",
              "         [0., 0., 0., 0.],\n",
              "         [0., 0., 0., 0.]]])"
            ]
          },
          "metadata": {},
          "execution_count": 5
        }
      ]
    },
    {
      "cell_type": "code",
      "source": [
        "# create a 2D tensor with content [[1, 2], [3, 4]]\n",
        "torch.tensor([[1, 2], [3, 4]])"
      ],
      "metadata": {
        "colab": {
          "base_uri": "https://localhost:8080/"
        },
        "id": "IR8fhRIRGzzF",
        "outputId": "3d64f7db-a5ba-48f4-a9cc-30424f0d6f35"
      },
      "execution_count": null,
      "outputs": [
        {
          "output_type": "execute_result",
          "data": {
            "text/plain": [
              "tensor([[1, 2],\n",
              "        [3, 4]])"
            ]
          },
          "metadata": {},
          "execution_count": 6
        }
      ]
    },
    {
      "cell_type": "code",
      "source": [
        "# Create a tensor with random values between 0 and 1 with the shape [2, 3, 4]\n",
        "x = torch.rand(2, 3, 4)"
      ],
      "metadata": {
        "id": "Gqlct5GtG-hd"
      },
      "execution_count": null,
      "outputs": []
    },
    {
      "cell_type": "markdown",
      "source": [
        "You can obtain the shape of a tensor in the same way as in numpy (<font color='red'> x.shape </font>), or using the <font color='red'>.size </font> method:\n",
        "\n"
      ],
      "metadata": {
        "id": "4IoD5NBRPSCY"
      }
    },
    {
      "cell_type": "code",
      "source": [
        "# Print shape of X\n",
        "print(x.shape)\n",
        "\n",
        "\n",
        "# Print size of x\n",
        "print(x.size())\n",
        "\n",
        "\n",
        "# print dimensions of x\n",
        "dim1, dim2, dim3 = x.shape\n",
        "print(dim1, dim2, dim3)"
      ],
      "metadata": {
        "colab": {
          "base_uri": "https://localhost:8080/"
        },
        "id": "VKxi2J8zHHjE",
        "outputId": "3bd0e95e-b5e8-4aa6-a0be-68ea8778bcf0"
      },
      "execution_count": null,
      "outputs": [
        {
          "output_type": "stream",
          "name": "stdout",
          "text": [
            "torch.Size([2, 3, 4])\n",
            "torch.Size([2, 3, 4])\n",
            "2 3 4\n"
          ]
        }
      ]
    },
    {
      "cell_type": "markdown",
      "source": [
        "## Tensor to Numpy, and Numpy to Tensor\n",
        "\n",
        "Tensors can be converted to numpy arrays, and numpy arrays back to tensors. To transform a numpy array into a tensor, we can use the function <font color='red'> torch.from_numpy </font>:\n",
        "\n"
      ],
      "metadata": {
        "id": "Jdr1miG1Pq2j"
      }
    },
    {
      "cell_type": "code",
      "source": [
        "# create a numpy array with content [[1, 2], [3, 4]]\n",
        "np_arr = np.array([[1, 2], [3, 4]])\n",
        "\n",
        "# create a torch tensor from the numpy array \n",
        "torch_tensor = torch.from_numpy(np_arr)\n",
        "print(torch_tensor)\n",
        "\n",
        "# Print numpy array and tensor\n",
        "print(np_arr)\n",
        "print(torch_tensor)\n"
      ],
      "metadata": {
        "colab": {
          "base_uri": "https://localhost:8080/"
        },
        "id": "tZo-e06oHLrY",
        "outputId": "e4c1be80-d2e6-4a7f-f8d2-e59cec18a194"
      },
      "execution_count": null,
      "outputs": [
        {
          "output_type": "stream",
          "name": "stdout",
          "text": [
            "tensor([[1, 2],\n",
            "        [3, 4]])\n",
            "[[1 2]\n",
            " [3 4]]\n",
            "tensor([[1, 2],\n",
            "        [3, 4]])\n"
          ]
        }
      ]
    },
    {
      "cell_type": "markdown",
      "source": [
        "To transform a PyTorch tensor back to a numpy array, we can use the function .<font color='red'> numpy() </font> on tensors:\n",
        "\n"
      ],
      "metadata": {
        "id": "9NqiSe8qQHiz"
      }
    },
    {
      "cell_type": "code",
      "source": [
        "# create a tensor with content [0, 1, 2, 3]\n",
        "tensor = torch.tensor([0, 1, 2, 3])\n",
        "\n",
        "# convert the tensor to numpy array\n",
        "np_arr = tensor.numpy()\n",
        "\n",
        "print(\"PyTorch tensor:\", tensor)\n",
        "print(\"Numpy array:\", np_arr)"
      ],
      "metadata": {
        "colab": {
          "base_uri": "https://localhost:8080/"
        },
        "id": "HTC0yTchHPZb",
        "outputId": "2d4740b9-c09b-43b4-b34b-7f6cb69340d7"
      },
      "execution_count": null,
      "outputs": [
        {
          "output_type": "stream",
          "name": "stdout",
          "text": [
            "PyTorch tensor: tensor([0, 1, 2, 3])\n",
            "Numpy array: [0 1 2 3]\n"
          ]
        }
      ]
    },
    {
      "cell_type": "markdown",
      "source": [
        "The conversion of tensors to numpy require the tensor to be on the CPU, and not the GPU (more on GPU support in a later section). In case you have a tensor on GPU, you need to call .cpu() on the tensor beforehand. Hence, you get a line like np_arr = tensor.cpu().numpy()."
      ],
      "metadata": {
        "id": "1FZNMXfDQSk_"
      }
    },
    {
      "cell_type": "markdown",
      "source": [
        "##Operations\n",
        "\n",
        "Most operations that exist in numpy, also exist in PyTorch. A full list of operations can be found in the [PyTorch documentation](https://pytorch.org/docs/stable/index.html), but we will review the most important ones here.\n",
        "\n",
        "The simplest operation is to add two tensors:\n",
        "\n",
        "\n",
        "\n"
      ],
      "metadata": {
        "id": "6QiDl-pjQyMJ"
      }
    },
    {
      "cell_type": "code",
      "source": [
        "# add two tensors of size (2,4) and (2,4)\n",
        "x1 = torch.ones(2, 4)\n",
        "x2 = torch.rand(2, 4)\n",
        "x3 = x1 + x2\n",
        "\n",
        "\n",
        "# print all 3 tensors\n",
        "print('x1', x1)\n",
        "print('x2', x2)\n",
        "print('x3', x3)"
      ],
      "metadata": {
        "id": "_IrVZiemRpPB",
        "colab": {
          "base_uri": "https://localhost:8080/"
        },
        "outputId": "e2ef6ad5-e684-4304-f5c0-c7c16d3a69e6"
      },
      "execution_count": null,
      "outputs": [
        {
          "output_type": "stream",
          "name": "stdout",
          "text": [
            "x1 tensor([[1., 1., 1., 1.],\n",
            "        [1., 1., 1., 1.]])\n",
            "x2 tensor([[0.7539, 0.1952, 0.0050, 0.3068],\n",
            "        [0.1165, 0.9103, 0.6440, 0.7071]])\n",
            "x3 tensor([[1.7539, 1.1952, 1.0050, 1.3068],\n",
            "        [1.1165, 1.9103, 1.6440, 1.7071]])\n"
          ]
        }
      ]
    },
    {
      "cell_type": "markdown",
      "source": [
        "Calling `x1 + x2` creates a new tensor containing the sum of the two inputs. However, we can also use in-place operations that are applied directly on the memory of a tensor. We therefore change the values of `x2` without the chance to re-accessing the values of `x2` before the operation. An example is shown below:"
      ],
      "metadata": {
        "id": "shPREU_1RsMn"
      }
    },
    {
      "cell_type": "code",
      "source": [
        "x1 = torch.rand(2, 3)\n",
        "x2 = torch.rand(2, 3)\n",
        "print(\"X1 (before)\", x1)\n",
        "print(\"X2 (before)\", x2)\n",
        "\n",
        "# in-place add x1 to x2\n",
        "x2.add_(x1)\n",
        "\n",
        "# print x1 and x2\n",
        "print('x1 (after)', x1)\n",
        "print('x2 (after)', x2)"
      ],
      "metadata": {
        "id": "bXGcu6lBR6Gv",
        "colab": {
          "base_uri": "https://localhost:8080/"
        },
        "outputId": "6aab50af-b43b-4dd8-eac1-597d79af0287"
      },
      "execution_count": null,
      "outputs": [
        {
          "output_type": "stream",
          "name": "stdout",
          "text": [
            "X1 (before) tensor([[0.6581, 0.4913, 0.8913],\n",
            "        [0.1447, 0.5315, 0.1587]])\n",
            "X2 (before) tensor([[0.6542, 0.3278, 0.6532],\n",
            "        [0.3958, 0.9147, 0.2036]])\n",
            "x1 (after) tensor([[0.6581, 0.4913, 0.8913],\n",
            "        [0.1447, 0.5315, 0.1587]])\n",
            "x2 (after) tensor([[1.3123, 0.8191, 1.5445],\n",
            "        [0.5406, 1.4462, 0.3624]])\n"
          ]
        }
      ]
    },
    {
      "cell_type": "markdown",
      "source": [
        "In-place operations are usually marked with a underscore postfix (e.g. “add_” instead of “add”).\n",
        "\n",
        "Another common operation aims at changing the shape of a tensor. A tensor of size (2,3) can be re-organized to any other shape with the same number of elements (e.g. a tensor of size (6), or (3,2), …). In PyTorch, this operation is called <font color='red'>view</font>:\n",
        "\n",
        "\n",
        "\n",
        "\n"
      ],
      "metadata": {
        "id": "5SVacRphSBaN"
      }
    },
    {
      "cell_type": "code",
      "source": [
        "# create a tensor with numbers from 1 to 6 (inclusive) using arange\n",
        "x = torch.arange(1, 7)  # similar to python range()\n",
        "\n",
        "# print the tensor\n",
        "print(x)"
      ],
      "metadata": {
        "id": "UE8mPnfuSYnV",
        "colab": {
          "base_uri": "https://localhost:8080/"
        },
        "outputId": "64c8c03b-034f-4cdd-b163-862c1f14878a"
      },
      "execution_count": null,
      "outputs": [
        {
          "output_type": "stream",
          "name": "stdout",
          "text": [
            "tensor([1, 2, 3, 4, 5, 6])\n"
          ]
        }
      ]
    },
    {
      "cell_type": "code",
      "source": [
        "# use view to get a new view of the tensor, transform the shape to (2, 3)\n",
        "x = x.view(2, 3)\n",
        "\n",
        "# print tensor\n",
        "print(x)"
      ],
      "metadata": {
        "id": "xJGs5CspSb2n",
        "colab": {
          "base_uri": "https://localhost:8080/"
        },
        "outputId": "af3d1eb9-13b9-4180-8e42-75bece9101fc"
      },
      "execution_count": null,
      "outputs": [
        {
          "output_type": "stream",
          "name": "stdout",
          "text": [
            "tensor([[1, 2, 3],\n",
            "        [4, 5, 6]])\n"
          ]
        }
      ]
    },
    {
      "cell_type": "code",
      "source": [
        "x = x.view(6, 1)\n",
        "print(x)"
      ],
      "metadata": {
        "colab": {
          "base_uri": "https://localhost:8080/"
        },
        "id": "Xt0d4FnFFZDk",
        "outputId": "29280c2a-4447-4887-f428-5557977fb1c9"
      },
      "execution_count": null,
      "outputs": [
        {
          "output_type": "stream",
          "name": "stdout",
          "text": [
            "tensor([[1],\n",
            "        [2],\n",
            "        [3],\n",
            "        [4],\n",
            "        [5],\n",
            "        [6]])\n"
          ]
        }
      ]
    },
    {
      "cell_type": "code",
      "source": [
        "# Swapping dimension 0 and 1\n",
        "x = x.permute(1, 0)\n",
        "\n",
        "# print tensor\n",
        "print(x)"
      ],
      "metadata": {
        "id": "3SAwUhDdSekz",
        "colab": {
          "base_uri": "https://localhost:8080/"
        },
        "outputId": "7df31682-7fc0-4a73-c959-312b09e76ae0"
      },
      "execution_count": null,
      "outputs": [
        {
          "output_type": "stream",
          "name": "stdout",
          "text": [
            "tensor([[1, 2, 3, 4, 5, 6]])\n"
          ]
        }
      ]
    },
    {
      "cell_type": "code",
      "source": [
        "x = x.view(3, 2)\n",
        "print(x)"
      ],
      "metadata": {
        "colab": {
          "base_uri": "https://localhost:8080/"
        },
        "id": "vAiK5ltQFuOD",
        "outputId": "6f3a7eb8-9140-4698-f280-e0dd0a035dcc"
      },
      "execution_count": null,
      "outputs": [
        {
          "output_type": "stream",
          "name": "stdout",
          "text": [
            "tensor([[1, 2],\n",
            "        [3, 4],\n",
            "        [5, 6]])\n"
          ]
        }
      ]
    },
    {
      "cell_type": "markdown",
      "source": [
        "Other commonly used operations include matrix multiplications, which are essential for neural networks. Quite often, we have an input vector , which is transformed using a learned weight matrix `W`. There are multiple ways and functions to perform matrix multiplication, some of which we list below:\n",
        "\n",
        "\n",
        "*   <font color='red'>torch.matmul</font>: Performs the matrix product over two tensors, where the specific behavior depends on the dimensions. If both inputs are matrices (2-dimensional tensors), it performs the standard matrix product. For higher dimensional inputs, the function supports broadcasting. Can also be written as `a @ b`, similar to numpy.\n",
        "*   <font color='red'>torch.mm</font>: Performs the matrix product over two matrices, but doesn’t support broadcasting\n",
        "* <font color='red'>torch.bmm</font>: Performs the matrix product with a support batch dimension. If the first tensor `T` is of shape (`b×n×m`), and the second tensor `R` (`b×m×p`), the output  is of shape (`b×n×p`), and has been calculated by performing  matrix multiplications of the submatrices of `T` and R:O_i=T_i@R_i : \n",
        "* <font color='red'>torch.einsum</font>: Performs matrix multiplications and more (i.e. sums of products) using the Einstein summation convention. Explanation of the Einstein sum can be found in assignment 1.\n",
        "\n",
        "\n",
        "Usually, we use <font color='red'>torch.matmul</font> or <font color='red'>torch.bmm</font>. We can try a matrix multiplication with torch.matmul below."
      ],
      "metadata": {
        "id": "EhwMKspZSlFO"
      }
    },
    {
      "cell_type": "code",
      "source": [
        "x = torch.arange(6)\n",
        "x = x.view(2, 3)\n",
        "print(\"X\", x)"
      ],
      "metadata": {
        "id": "TMwPVTKDWUCQ",
        "colab": {
          "base_uri": "https://localhost:8080/"
        },
        "outputId": "d2db6767-46bf-4286-fcb3-5dbdfc1dccb7"
      },
      "execution_count": null,
      "outputs": [
        {
          "output_type": "stream",
          "name": "stdout",
          "text": [
            "X tensor([[0, 1, 2],\n",
            "        [3, 4, 5]])\n"
          ]
        }
      ]
    },
    {
      "cell_type": "code",
      "source": [
        "# make 3x3 tensor by viewing a tensor made out of arange(9) and store it in W\n",
        "w = torch.arange(9).view(3, 3)\n",
        "\n",
        "# print W\n",
        "print(w)"
      ],
      "metadata": {
        "id": "802SbSblWU7N",
        "colab": {
          "base_uri": "https://localhost:8080/"
        },
        "outputId": "de05a33d-a6fc-4784-bdf1-21e98050cf13"
      },
      "execution_count": null,
      "outputs": [
        {
          "output_type": "stream",
          "name": "stdout",
          "text": [
            "tensor([[0, 1, 2],\n",
            "        [3, 4, 5],\n",
            "        [6, 7, 8]])\n"
          ]
        }
      ]
    },
    {
      "cell_type": "code",
      "source": [
        "# multiply x and W and assign the result \n",
        "h = torch.matmul(x, w)\n",
        "\n",
        "# print the output\n",
        "print(\"h\", h)"
      ],
      "metadata": {
        "id": "70RhD4TlWXaT",
        "colab": {
          "base_uri": "https://localhost:8080/"
        },
        "outputId": "4bc9ac0b-7172-47b3-f445-c093111d5554"
      },
      "execution_count": null,
      "outputs": [
        {
          "output_type": "stream",
          "name": "stdout",
          "text": [
            "h tensor([[15, 18, 21],\n",
            "        [42, 54, 66]])\n"
          ]
        }
      ]
    },
    {
      "cell_type": "markdown",
      "source": [
        "##Indexing\n",
        "\n",
        "We often have the situation where we need to select a part of a tensor. Indexing works just like in numpy, so let’s try it:"
      ],
      "metadata": {
        "id": "CQo4y8zjWZ2i"
      }
    },
    {
      "cell_type": "code",
      "source": [
        "x = torch.arange(12).view(3, 4)\n",
        "print(\"X\", x)"
      ],
      "metadata": {
        "id": "mojz83gDWhlW",
        "colab": {
          "base_uri": "https://localhost:8080/"
        },
        "outputId": "e8ad5810-5059-4979-9b3f-864031696a08"
      },
      "execution_count": null,
      "outputs": [
        {
          "output_type": "stream",
          "name": "stdout",
          "text": [
            "X tensor([[ 0,  1,  2,  3],\n",
            "        [ 4,  5,  6,  7],\n",
            "        [ 8,  9, 10, 11]])\n"
          ]
        }
      ]
    },
    {
      "cell_type": "code",
      "source": [
        "# print Second column\n",
        "print(x[:, 1])"
      ],
      "metadata": {
        "id": "elskaaObWioj",
        "colab": {
          "base_uri": "https://localhost:8080/"
        },
        "outputId": "2437e340-b829-4095-ebeb-2ed4eb2a07b5"
      },
      "execution_count": null,
      "outputs": [
        {
          "output_type": "stream",
          "name": "stdout",
          "text": [
            "tensor([1, 5, 9])\n"
          ]
        }
      ]
    },
    {
      "cell_type": "code",
      "source": [
        "# First row\n",
        "print(x[0, :])\n",
        "print(x[0])"
      ],
      "metadata": {
        "id": "A4C_XVRGWl2T",
        "colab": {
          "base_uri": "https://localhost:8080/"
        },
        "outputId": "1d49bebc-2f01-4f3b-b9a9-b86caf595ce0"
      },
      "execution_count": null,
      "outputs": [
        {
          "output_type": "stream",
          "name": "stdout",
          "text": [
            "tensor([0, 1, 2, 3])\n",
            "tensor([0, 1, 2, 3])\n"
          ]
        }
      ]
    },
    {
      "cell_type": "code",
      "source": [
        "# First two rows, last column\n",
        "print(x[:2, -1])\n"
      ],
      "metadata": {
        "id": "WIoGyHWxWl7s",
        "colab": {
          "base_uri": "https://localhost:8080/"
        },
        "outputId": "aed29e84-3b74-4d00-d0d6-7e1621203c85"
      },
      "execution_count": null,
      "outputs": [
        {
          "output_type": "stream",
          "name": "stdout",
          "text": [
            "tensor([3, 7])\n"
          ]
        }
      ]
    },
    {
      "cell_type": "code",
      "source": [
        "# Middle two rows\n",
        "print(x[1:])"
      ],
      "metadata": {
        "id": "ttZiq4FsWmHN",
        "colab": {
          "base_uri": "https://localhost:8080/"
        },
        "outputId": "898d857c-7ae8-4d67-89a2-2ad615274242"
      },
      "execution_count": null,
      "outputs": [
        {
          "output_type": "stream",
          "name": "stdout",
          "text": [
            "tensor([[ 4,  5,  6,  7],\n",
            "        [ 8,  9, 10, 11]])\n"
          ]
        }
      ]
    },
    {
      "cell_type": "markdown",
      "metadata": {
        "id": "5n-NBVR9XRWx"
      },
      "source": [
        "## Dynamic Computation Graph and Backpropagation\n",
        "\n",
        "One of the main reasons for using PyTorch in Deep Learning projects is that we can automatically get **gradients/derivatives** of functions that we define. We will mainly use PyTorch for implementing neural networks, and they are just fancy functions. If we use weight matrices in our function that we want to learn, then those are called the **parameters** or simply the **weights**.\n",
        "\n",
        "If our neural network would output a single scalar value, we would talk about taking the **derivative**, but you will see that quite often we will have **multiple** output variables (\"values\"); in that case we talk about **gradients**. It's a more general term.\n",
        "\n",
        "Given an input $\\mathbf{x}$, we define our function by **manipulating** that input, usually by matrix-multiplications with weight matrices and additions with so-called bias vectors. As we manipulate our input, we are automatically creating a **computational graph**. This graph shows how to arrive at our output from our input. \n",
        "PyTorch is a **define-by-run** framework; this means that we can just do our manipulations, and PyTorch will keep track of that graph for us. Thus, we create a dynamic computation graph along the way.\n",
        "\n",
        "So, to recap: the only thing we have to do is to compute the **output**, and then we can ask PyTorch to automatically get the **gradients**. \n",
        "\n",
        "> **Note:  Why do we want gradients?** Consider that we have defined a function, a neural net, that is supposed to compute a certain output $y$ for an input vector $\\mathbf{x}$. We then define an **error measure** that tells us how wrong our network is; how bad it is in predicting output $y$ from input $\\mathbf{x}$. Based on this error measure, we can use the gradients to **update** the weights $\\mathbf{W}$ that were responsible for the output, so that the next time we present input $\\mathbf{x}$ to our network, the output will be closer to what we want.\n",
        "\n",
        "The first thing we have to do is to specify which tensors require gradients. By default, when we create a tensor, it does not require gradients."
      ]
    },
    {
      "cell_type": "code",
      "execution_count": null,
      "metadata": {
        "id": "M-t9rq-3XRWy",
        "outputId": "fd85dd09-4141-40ed-ca69-6a21007d224f",
        "colab": {
          "base_uri": "https://localhost:8080/"
        }
      },
      "outputs": [
        {
          "output_type": "stream",
          "name": "stdout",
          "text": [
            "False\n"
          ]
        }
      ],
      "source": [
        "x = torch.ones((3,))\n",
        "print(x.requires_grad)"
      ]
    },
    {
      "cell_type": "markdown",
      "metadata": {
        "id": "FZRnUTdcXRWy"
      },
      "source": [
        "We can change this for an existing tensor using the function `requires_grad_()` (underscore indicating that this is a in-place operation). Alternatively, when creating a tensor, you can pass the argument `requires_grad=True` to most initializers we have seen above."
      ]
    },
    {
      "cell_type": "code",
      "execution_count": null,
      "metadata": {
        "id": "V9J_DJXCXRWy",
        "outputId": "7057c78d-0782-4331-bfda-7d12fe0d878e",
        "colab": {
          "base_uri": "https://localhost:8080/"
        }
      },
      "outputs": [
        {
          "output_type": "stream",
          "name": "stdout",
          "text": [
            "True\n"
          ]
        }
      ],
      "source": [
        "x.requires_grad_(True)\n",
        "print(x.requires_grad)"
      ]
    },
    {
      "cell_type": "markdown",
      "metadata": {
        "id": "3VeSMashXRWy"
      },
      "source": [
        "In order to get familiar with the concept of a computation graph, we will create one for the following function:\n",
        "\n",
        "$$y = \\frac{1}{|x|}\\sum_i \\left[(x_i + 2)^2 + 3\\right]$$\n",
        "\n",
        "You could imagine that $x$ are our parameters, and we want to optimize (either maximize or minimize) the output $y$. For this, we want to obtain the gradients $\\partial y / \\partial \\mathbf{x}$. For our example, we'll use $\\mathbf{x}=[0,1,2]$ as our input."
      ]
    },
    {
      "cell_type": "code",
      "execution_count": null,
      "metadata": {
        "id": "0rdkgmgFXRWz",
        "outputId": "56251602-d662-419d-eda0-4786080c26d3",
        "colab": {
          "base_uri": "https://localhost:8080/"
        }
      },
      "outputs": [
        {
          "output_type": "stream",
          "name": "stdout",
          "text": [
            "X tensor([0., 1., 2.], requires_grad=True)\n"
          ]
        }
      ],
      "source": [
        "x = torch.arange(3, dtype=torch.float32, requires_grad=True) # Only float tensors can have gradients\n",
        "print(\"X\", x)"
      ]
    },
    {
      "cell_type": "markdown",
      "metadata": {
        "id": "R8h7p-PYXRWz"
      },
      "source": [
        "Now let's build the computation graph step by step. You can combine multiple operations in a single line, but we will separate them here to get a better understanding of how each operation is added to the computation graph."
      ]
    },
    {
      "cell_type": "code",
      "execution_count": null,
      "metadata": {
        "id": "kx6-cJkRXRWz",
        "outputId": "3434dd2a-c1a6-414a-9850-1e191c1ec3a2",
        "colab": {
          "base_uri": "https://localhost:8080/"
        }
      },
      "outputs": [
        {
          "output_type": "stream",
          "name": "stdout",
          "text": [
            "Y tensor(12.6667, grad_fn=<MeanBackward0>)\n"
          ]
        }
      ],
      "source": [
        "a = x + 2\n",
        "b = a ** 2    # ** means power\n",
        "c = b + 3\n",
        "y = c.mean()\n",
        "print(\"Y\", y)"
      ]
    },
    {
      "cell_type": "markdown",
      "metadata": {
        "id": "fpP5kY0_XRWz"
      },
      "source": [
        "Using the statements above, we have created a computation graph that looks similar to the figure below:\n",
        "\n",
        "<center><img src=\"https://drive.google.com/uc?id=1o2n1C5GFqt8w8aGTu34HiE-C-PmnAzi9\"></center>\n",
        "\n",
        "\n",
        "We calculate $a$ based on the inputs $x$ and the constant $2$, $b$ is $a$ squared, and so on. The visualization is an abstraction of the dependencies between inputs and outputs of the operations we have applied.\n",
        "Each node of the computation graph has automatically defined a function for calculating the gradients with respect to its inputs, `grad_fn`. You can see this when we printed the output tensor $y$. This is why the computation graph is usually visualized in the reverse direction (arrows point from the result to the inputs). We can perform backpropagation on the computation graph by calling the function `backward()` on the last output, which effectively calculates the gradients for each tensor that has the property `requires_grad=True`:"
      ]
    },
    {
      "cell_type": "code",
      "execution_count": null,
      "metadata": {
        "id": "p7wgA0pKXRWz"
      },
      "outputs": [],
      "source": [
        "y.backward()"
      ]
    },
    {
      "cell_type": "markdown",
      "metadata": {
        "id": "3uQN4H75XRWz"
      },
      "source": [
        "`x.grad` will now contain the gradient $\\partial y/ \\partial \\mathcal{x}$, and this gradient indicates how a change in $\\mathbf{x}$ will affect output $y$ given the current input $\\mathbf{x}=[0,1,2]$:"
      ]
    },
    {
      "cell_type": "code",
      "execution_count": null,
      "metadata": {
        "id": "AVCxE7S_XRW0",
        "outputId": "071d9add-1553-4708-fa7a-938e511c2d39",
        "colab": {
          "base_uri": "https://localhost:8080/"
        }
      },
      "outputs": [
        {
          "output_type": "stream",
          "name": "stdout",
          "text": [
            "tensor([1.3333, 2.0000, 2.6667])\n"
          ]
        }
      ],
      "source": [
        "print(x.grad)"
      ]
    },
    {
      "cell_type": "markdown",
      "metadata": {
        "id": "qkKvnHRpXRW0"
      },
      "source": [
        "We can also verify these gradients by hand. We will calculate the gradients using the chain rule, in the same way as PyTorch did it:\n",
        "\n",
        "$$\\frac{\\partial y}{\\partial x_i} = \\frac{\\partial y}{\\partial c_i}\\frac{\\partial c_i}{\\partial b_i}\\frac{\\partial b_i}{\\partial a_i}\\frac{\\partial a_i}{\\partial x_i}$$\n",
        "\n",
        "Note that we have simplified this equation to index notation, and by using the fact that all operation besides the mean do not combine the elements in the tensor. The partial derivatives are:\n",
        "\n",
        "$$\n",
        "\\frac{\\partial a_i}{\\partial x_i} = 1,\\hspace{1cm}\n",
        "\\frac{\\partial b_i}{\\partial a_i} = 2\\cdot a_i\\hspace{1cm}\n",
        "\\frac{\\partial c_i}{\\partial b_i} = 1\\hspace{1cm}\n",
        "\\frac{\\partial y}{\\partial c_i} = \\frac{1}{3}\n",
        "$$\n",
        "\n",
        "Hence, with the input being $\\mathbf{x}=[0,1,2]$, our gradients are $\\partial y/\\partial \\mathbf{x}=[4/3,2,8/3]$. The previous code cell should have printed the same result."
      ]
    },
    {
      "cell_type": "markdown",
      "metadata": {
        "id": "5z-lq6z-XRW0"
      },
      "source": [
        "## GPU support\n",
        "\n",
        "A crucial feature of PyTorch is the support of GPUs, short for Graphics Processing Unit. A GPU can perform many thousands of small operations in parallel, making it very well suitable for performing large matrix operations in neural networks. When comparing GPUs to CPUs, we can list the following main differences (credit: [Kevin Krewell, 2009](https://blogs.nvidia.com/blog/2009/12/16/whats-the-difference-between-a-cpu-and-a-gpu/)) \n",
        "\n",
        "![Picture](https://drive.google.com/uc?id=1tgoUlvkWj5dv1oqfV46c3ABzYK5_dc_z)\n",
        "\n",
        "CPUs and GPUs have both different advantages and disadvantages, which is why many computers contain both components and use them for different tasks. In case you are not familiar with GPUs, you can read up more details in this [NVIDIA blog post](https://blogs.nvidia.com/blog/2009/12/16/whats-the-difference-between-a-cpu-and-a-gpu/) or [here](https://www.intel.com/content/www/us/en/products/docs/processors/what-is-a-gpu.html). \n",
        "\n",
        "GPUs can accelerate the training of your network up to a factor of $100$ which is essential for large neural networks. PyTorch implements a lot of functionality for supporting GPUs (mostly those of NVIDIA due to the libraries [CUDA](https://developer.nvidia.com/cuda-zone) and [cuDNN](https://developer.nvidia.com/cudnn)). First, let's check whether you have a GPU available:"
      ]
    },
    {
      "cell_type": "code",
      "execution_count": null,
      "metadata": {
        "id": "BxqyAytyXRW0",
        "outputId": "8c1f21b7-e4ba-4293-fa47-0ae4d910ece2",
        "colab": {
          "base_uri": "https://localhost:8080/"
        }
      },
      "outputs": [
        {
          "output_type": "stream",
          "name": "stdout",
          "text": [
            "Is the GPU available? True\n"
          ]
        }
      ],
      "source": [
        "gpu_avail = torch.cuda.is_available()\n",
        "print(f\"Is the GPU available? {gpu_avail}\")"
      ]
    },
    {
      "cell_type": "markdown",
      "metadata": {
        "id": "xBpt5zYuXRW0"
      },
      "source": [
        "If you have a GPU on your computer but the command above returns False, make sure you have the correct CUDA-version installed. The `dl2021` environment comes with the CUDA-toolkit 11.3, which is selected for the Lisa supercomputer. Please change it if necessary (CUDA 11.1 is currently common on Colab). On Google Colab, make sure that you have selected a GPU in your runtime setup (in the menu, check under `Runtime -> Change runtime type`). \n",
        "\n",
        "By default, all tensors you create are stored on the CPU. We can push a tensor to the GPU by using the function `.to(...)`, or `.cuda()`. However, it is often a good practice to define a `device` object in your code which points to the GPU if you have one, and otherwise to the CPU. Then, you can write your code with respect to this device object, and it allows you to run the same code on both a CPU-only system, and one with a GPU. Let's try it below. We can specify the device as follows: "
      ]
    },
    {
      "cell_type": "code",
      "execution_count": null,
      "metadata": {
        "id": "zlQvEGsWXRW0",
        "outputId": "7590a0d8-ea29-43be-f973-6edc15d2af05",
        "colab": {
          "base_uri": "https://localhost:8080/"
        }
      },
      "outputs": [
        {
          "output_type": "stream",
          "name": "stdout",
          "text": [
            "Device cuda\n"
          ]
        }
      ],
      "source": [
        "device = torch.device(\"cuda\") if torch.cuda.is_available() else torch.device(\"cpu\")\n",
        "print(\"Device\", device)"
      ]
    },
    {
      "cell_type": "markdown",
      "metadata": {
        "id": "e3o9Gy2GXRW1"
      },
      "source": [
        "Now let's create a tensor and push it to the device:"
      ]
    },
    {
      "cell_type": "code",
      "execution_count": null,
      "metadata": {
        "id": "5Rj_yQOZXRW1",
        "outputId": "ade605c4-3852-48bd-c515-3ee4ae3bab92",
        "colab": {
          "base_uri": "https://localhost:8080/"
        }
      },
      "outputs": [
        {
          "output_type": "stream",
          "name": "stdout",
          "text": [
            "X tensor([[0., 0., 0.],\n",
            "        [0., 0., 0.]], device='cuda:0')\n"
          ]
        }
      ],
      "source": [
        "x = torch.zeros(2, 3)\n",
        "x = x.to(device) \n",
        "print(\"X\", x)"
      ]
    },
    {
      "cell_type": "markdown",
      "metadata": {
        "id": "eb1nzxZFXRW1"
      },
      "source": [
        "In case you have a GPU, you should now see the attribute `device='cuda:0'` being printed next to your tensor. The zero next to cuda indicates that this is the zero-th GPU device on your computer. PyTorch also supports multi-GPU systems, but this you will only need once you have very big networks to train (if interested, see the [PyTorch documentation](https://pytorch.org/docs/stable/distributed.html#distributed-basics)). We can also compare the runtime of a large matrix multiplication on the CPU with a operation on the GPU:"
      ]
    },
    {
      "cell_type": "code",
      "execution_count": null,
      "metadata": {
        "id": "STeJI3SGXRW1",
        "colab": {
          "base_uri": "https://localhost:8080/"
        },
        "outputId": "b7d3b0c0-6219-42d7-eeee-3fea50df7ca7"
      },
      "outputs": [
        {
          "output_type": "stream",
          "name": "stdout",
          "text": [
            "CPU time: 35.23283s\n",
            "GPU time: 2.82475s\n"
          ]
        }
      ],
      "source": [
        "import torch\n",
        "import time\n",
        "\n",
        "x = torch.randn(10000, 10000)\n",
        "\n",
        "## CPU version, done on cpu\n",
        "start_time = time.time()\n",
        "_ = torch.matmul(x, x)\n",
        "end_time = time.time()\n",
        "print(f\"CPU time: {(end_time - start_time):6.5f}s\")\n",
        "\n",
        "## GPU version, done on gpu\n",
        "device = torch.device('cuda')\n",
        "x = x.to(device)\n",
        "# CUDA is asynchronous, so we need to use different timing functions\n",
        "start = torch.cuda.Event(enable_timing=True)\n",
        "end = torch.cuda.Event(enable_timing=True)\n",
        "start.record()\n",
        "_ = torch.matmul(x, x)\n",
        "end.record()\n",
        "torch.cuda.synchronize()  # Waits for everything to finish running on the GPU\n",
        "print(f\"GPU time: {0.001 * start.elapsed_time(end):6.5f}s\")  # Milliseconds to seconds"
      ]
    },
    {
      "cell_type": "markdown",
      "metadata": {
        "id": "qNaFFZA-XRW3"
      },
      "source": [
        "Depending on the size of the operation and the CPU/GPU in your system, the speedup of this operation can be >50x. As `matmul` operations are very common in neural networks, we can already see the great benefit of training a NN on a GPU. The time estimate can be relatively noisy here because we haven't run it for multiple times. Feel free to extend this, but it also takes longer to run.\n",
        "\n",
        "When generating random numbers, the seed between CPU and GPU is not synchronized. Hence, we need to set the seed on the GPU separately to ensure a reproducible code. Note that due to different GPU architectures, running the same code on different GPUs does not guarantee the same random numbers. Still, we don't want that our code gives us a different output every time we run it on the exact same hardware. Hence, we also set the seed on the GPU:"
      ]
    },
    {
      "cell_type": "code",
      "execution_count": null,
      "metadata": {
        "id": "K-M9TL0wXRW3"
      },
      "outputs": [],
      "source": [
        "# GPU operations have a separate seed we also want to set\n",
        "if torch.cuda.is_available(): \n",
        "    torch.cuda.manual_seed(42)\n",
        "    torch.cuda.manual_seed_all(42)\n",
        "    \n",
        "# Additionally, some operations on a GPU are implemented stochastic for efficiency\n",
        "# We want to ensure that all operations are deterministic on GPU (if used) for reproducibility\n",
        "torch.backends.cudnn.deterministic = True\n",
        "torch.backends.cudnn.benchmark = True"
      ]
    },
    {
      "cell_type": "markdown",
      "metadata": {
        "id": "iaC7YVupXRW4"
      },
      "source": [
        "## Learning by example: Continuous XOR\n",
        "\n",
        "If we want to build a neural network in PyTorch, we could specify all our parameters (weight matrices, bias vectors) using `Tensors` (with `requires_grad=True`), ask PyTorch to calculate the gradients and then adjust the parameters. But things can quickly get cumbersome if we have a lot of parameters. In PyTorch, there is a package called `torch.nn` that makes building neural networks more convenient. \n",
        "\n",
        "We will introduce the libraries and all additional parts you might need to train a neural network in PyTorch, using a simple example classifier on a simple yet well known example: XOR. Given two binary inputs $x_1$ and $x_2$, the label to predict is $1$ if either $x_1$ or $x_2$ is $1$ while the other is $0$, or the label is $0$ in all other cases. The example became famous by the fact that a single neuron, i.e. a linear classifier, cannot learn this simple function.\n",
        "Hence, we will learn how to build a small neural network that can learn this function. \n",
        "To make it a little bit more interesting, we move the XOR into continuous space and introduce some gaussian noise on the binary inputs. Our desired separation of an XOR dataset could look as follows:\n",
        "\n",
        "![Picture](https://drive.google.com/uc?id=1xQe00bYFNflLGPg_l9_NVi3P3E2ccl-v)\n"
      ]
    },
    {
      "cell_type": "markdown",
      "metadata": {
        "id": "Zv-xesM8XRW6"
      },
      "source": [
        "### The data\n",
        "\n",
        "PyTorch also provides a few functionalities to load the training and test data efficiently, summarized in the package `torch.utils.data`."
      ]
    },
    {
      "cell_type": "code",
      "execution_count": null,
      "metadata": {
        "id": "JjWPgvwgXRW6"
      },
      "outputs": [],
      "source": [
        "import torch.utils.data as data"
      ]
    },
    {
      "cell_type": "markdown",
      "metadata": {
        "id": "q8KSt7s-XRW6"
      },
      "source": [
        "The data package defines two classes which are the standard interface for handling data in PyTorch: `data.Dataset`, and `data.DataLoader`. The dataset class provides an uniform interface to access the training/test data, while the data loader makes sure to efficiently load and stack the data points from the dataset into batches during training."
      ]
    },
    {
      "cell_type": "markdown",
      "metadata": {
        "id": "a7uWV2G2XRW6"
      },
      "source": [
        "#### The dataset class\n",
        "\n",
        "The dataset class summarizes the basic functionality of a dataset in a natural way. To define a dataset in PyTorch, we simply specify two functions: `__getitem__`, and `__len__`. The get-item function has to return the $i$-th data point in the dataset, while the len function returns the size of the dataset. For the XOR dataset, we can define the dataset class as follows:"
      ]
    },
    {
      "cell_type": "code",
      "execution_count": null,
      "metadata": {
        "id": "ypOFHRxGXRW6"
      },
      "outputs": [],
      "source": [
        "import torch.utils.data as data\n",
        "\n",
        "class XORDataset(data.Dataset):\n",
        "\n",
        "    def __init__(self, size, std=0.1):\n",
        "        \"\"\"\n",
        "        Inputs:\n",
        "            size - Number of data points we want to generate\n",
        "            std - Standard deviation of the noise (see generate_continuous_xor function)\n",
        "        \"\"\"\n",
        "        super().__init__()\n",
        "        self.size = size\n",
        "        self.std = std\n",
        "        self.generate_continuous_xor()\n",
        "\n",
        "    def generate_continuous_xor(self):\n",
        "        # Each data point in the XOR dataset has two variables, x and y, that can be either 0 or 1\n",
        "        # The label is their XOR combination, i.e. 1 if only x or only y is 1 while the other is 0.\n",
        "        # If x=y, the label is 0.\n",
        "        data = torch.randint(low=0, high=2, size=(self.size, 2))\n",
        "        label = (data.sum(dim=1) == 1).int()\n",
        "\n",
        "        # To make it slightly more challenging, we add a bit of gaussian noise to the data points. (hint: torch.normal)\n",
        "        noise = torch.normal(0, self.std, size=((self.size, 2)))\n",
        "        data = data + noise\n",
        "\n",
        "        self.data = data\n",
        "        self.label = label\n",
        "\n",
        "    def __len__(self):\n",
        "        # Number of data point we have. Alternatively self.data.shape[0], or self.label.shape[0]\n",
        "        return self.size  # number of data points\n",
        "\n",
        "    def __getitem__(self, idx):\n",
        "        # Return the idx-th data point of the dataset\n",
        "        # If we have multiple things to return (data point and label), we can return them as tuple\n",
        "        data = self.data[idx]\n",
        "        label = self.label[idx]\n",
        "        return data, label "
      ]
    },
    {
      "cell_type": "code",
      "source": [
        "# let's check the behavior of torch.randint\n",
        "size = 10\n",
        "data = torch.randint(low=0, high=2, size=(size, 2))\n",
        "print(data)"
      ],
      "metadata": {
        "colab": {
          "base_uri": "https://localhost:8080/"
        },
        "id": "wmN4wKKYKtF1",
        "outputId": "6ed8f1f5-2639-45e8-ce92-7ddfbe51193e"
      },
      "execution_count": null,
      "outputs": [
        {
          "output_type": "stream",
          "name": "stdout",
          "text": [
            "tensor([[0, 0],\n",
            "        [1, 1],\n",
            "        [0, 0],\n",
            "        [1, 1],\n",
            "        [0, 0],\n",
            "        [0, 0],\n",
            "        [0, 1],\n",
            "        [1, 1],\n",
            "        [1, 0],\n",
            "        [0, 0]])\n"
          ]
        }
      ]
    },
    {
      "cell_type": "code",
      "source": [
        "(data.sum(dim=1) == 1).int()"
      ],
      "metadata": {
        "colab": {
          "base_uri": "https://localhost:8080/"
        },
        "id": "PD_SRlFBLB7r",
        "outputId": "a46ac274-1fd4-452e-ac63-13a1c5290c9d"
      },
      "execution_count": null,
      "outputs": [
        {
          "output_type": "execute_result",
          "data": {
            "text/plain": [
              "tensor([0, 0, 0, 0, 0, 0, 1, 0, 1, 0], dtype=torch.int32)"
            ]
          },
          "metadata": {},
          "execution_count": 40
        }
      ]
    },
    {
      "cell_type": "code",
      "source": [
        "torch.normal(0, 2, size=((size, 2)))"
      ],
      "metadata": {
        "colab": {
          "base_uri": "https://localhost:8080/"
        },
        "id": "To07BbYaLisD",
        "outputId": "be6abbe1-972f-4ba1-fa72-6c41eddbba8e"
      },
      "execution_count": null,
      "outputs": [
        {
          "output_type": "execute_result",
          "data": {
            "text/plain": [
              "tensor([[ 0.5595,  2.0895],\n",
              "        [ 0.5233, -0.2819],\n",
              "        [-1.8718,  0.0719],\n",
              "        [-1.2667,  0.8414],\n",
              "        [ 0.4790,  1.1030],\n",
              "        [-2.7202, -1.3585],\n",
              "        [ 3.8952,  2.0711],\n",
              "        [-0.0659,  1.9248],\n",
              "        [ 0.8680,  1.2890],\n",
              "        [ 3.4528, -2.0764]])"
            ]
          },
          "metadata": {},
          "execution_count": 41
        }
      ]
    },
    {
      "cell_type": "markdown",
      "metadata": {
        "id": "qcPpsVaBXRW6"
      },
      "source": [
        "Let's try to create such a dataset and inspect it:"
      ]
    },
    {
      "cell_type": "code",
      "execution_count": null,
      "metadata": {
        "id": "oojZbcaWXRW6",
        "colab": {
          "base_uri": "https://localhost:8080/"
        },
        "outputId": "13cf8ed1-9ae0-479d-995e-bb5a87a20449"
      },
      "outputs": [
        {
          "output_type": "stream",
          "name": "stdout",
          "text": [
            "Size of dataset: 200\n",
            "Data point 0: (tensor([1.1488, 1.0871]), tensor(0, dtype=torch.int32))\n"
          ]
        }
      ],
      "source": [
        "dataset = XORDataset(size=200)\n",
        "print(\"Size of dataset:\", len(dataset))\n",
        "print(\"Data point 0:\", dataset[0])"
      ]
    },
    {
      "cell_type": "markdown",
      "metadata": {
        "id": "v3UvuwEpXRW7"
      },
      "source": [
        "To better relate to the dataset, we visualize the samples below. "
      ]
    },
    {
      "cell_type": "code",
      "execution_count": null,
      "metadata": {
        "id": "wON6-m6UXRW7"
      },
      "outputs": [],
      "source": [
        "def visualize_samples(data, label):\n",
        "    if isinstance(data, torch.Tensor):\n",
        "        data = data.cpu().numpy()\n",
        "    if isinstance(label, torch.Tensor):\n",
        "        label = label.cpu().numpy()\n",
        "    data_0 = data[label == 0]\n",
        "    data_1 = data[label == 1]\n",
        "    \n",
        "    plt.figure(figsize=(4,4))\n",
        "    plt.scatter(data_0[:,0], data_0[:,1], edgecolor=\"#333\", label=\"Class 0\")\n",
        "    plt.scatter(data_1[:,0], data_1[:,1], edgecolor=\"#333\", label=\"Class 1\")\n",
        "    plt.title(\"Dataset samples\")\n",
        "    plt.ylabel(r\"$x_2$\")\n",
        "    plt.xlabel(r\"$x_1$\")\n",
        "    plt.legend()"
      ]
    },
    {
      "cell_type": "code",
      "execution_count": null,
      "metadata": {
        "id": "811H6ag4XRW7",
        "colab": {
          "base_uri": "https://localhost:8080/",
          "height": 398
        },
        "outputId": "3b5a6bf9-45ce-4b9e-d407-69c6ceb66368"
      },
      "outputs": [
        {
          "output_type": "display_data",
          "data": {
            "text/plain": [
              "<Figure size 288x288 with 1 Axes>"
            ],
            "image/svg+xml": "<?xml version=\"1.0\" encoding=\"utf-8\" standalone=\"no\"?>\n<!DOCTYPE svg PUBLIC \"-//W3C//DTD SVG 1.1//EN\"\n  \"http://www.w3.org/Graphics/SVG/1.1/DTD/svg11.dtd\">\n<!-- Created with matplotlib (https://matplotlib.org/) -->\n<svg height=\"282.717813pt\" version=\"1.1\" viewBox=\"0 0 289.424844 282.717813\" width=\"289.424844pt\" xmlns=\"http://www.w3.org/2000/svg\" xmlns:xlink=\"http://www.w3.org/1999/xlink\">\n <defs>\n  <style type=\"text/css\">\n*{stroke-linecap:butt;stroke-linejoin:round;}\n  </style>\n </defs>\n <g id=\"figure_1\">\n  <g id=\"patch_1\">\n   <path d=\"M 0 282.717813 \nL 289.424844 282.717813 \nL 289.424844 0 \nL 0 0 \nz\n\" style=\"fill:#ffffff;\"/>\n  </g>\n  <g id=\"axes_1\">\n   <g id=\"patch_2\">\n    <path d=\"M 59.024844 239.758125 \nL 282.224844 239.758125 \nL 282.224844 22.318125 \nL 59.024844 22.318125 \nz\n\" style=\"fill:#eaeaf2;\"/>\n   </g>\n   <g id=\"matplotlib.axis_1\">\n    <g id=\"xtick_1\">\n     <g id=\"line2d_1\">\n      <path clip-path=\"url(#p5a06f54070)\" d=\"M 106.274429 239.758125 \nL 106.274429 22.318125 \n\" style=\"fill:none;stroke:#ffffff;stroke-linecap:round;\"/>\n     </g>\n     <g id=\"text_1\">\n      <!-- 0.0 -->\n      <defs>\n       <path d=\"M 31.78125 66.40625 \nQ 24.171875 66.40625 20.328125 58.90625 \nQ 16.5 51.421875 16.5 36.375 \nQ 16.5 21.390625 20.328125 13.890625 \nQ 24.171875 6.390625 31.78125 6.390625 \nQ 39.453125 6.390625 43.28125 13.890625 \nQ 47.125 21.390625 47.125 36.375 \nQ 47.125 51.421875 43.28125 58.90625 \nQ 39.453125 66.40625 31.78125 66.40625 \nz\nM 31.78125 74.21875 \nQ 44.046875 74.21875 50.515625 64.515625 \nQ 56.984375 54.828125 56.984375 36.375 \nQ 56.984375 17.96875 50.515625 8.265625 \nQ 44.046875 -1.421875 31.78125 -1.421875 \nQ 19.53125 -1.421875 13.0625 8.265625 \nQ 6.59375 17.96875 6.59375 36.375 \nQ 6.59375 54.828125 13.0625 64.515625 \nQ 19.53125 74.21875 31.78125 74.21875 \nz\n\" id=\"DejaVuSans-48\"/>\n       <path d=\"M 10.6875 12.40625 \nL 21 12.40625 \nL 21 0 \nL 10.6875 0 \nz\n\" id=\"DejaVuSans-46\"/>\n      </defs>\n      <g style=\"fill:#262626;\" transform=\"translate(97.52771 257.616406)scale(0.11 -0.11)\">\n       <use xlink:href=\"#DejaVuSans-48\"/>\n       <use x=\"63.623047\" xlink:href=\"#DejaVuSans-46\"/>\n       <use x=\"95.410156\" xlink:href=\"#DejaVuSans-48\"/>\n      </g>\n     </g>\n    </g>\n    <g id=\"xtick_2\">\n     <g id=\"line2d_2\">\n      <path clip-path=\"url(#p5a06f54070)\" d=\"M 174.026878 239.758125 \nL 174.026878 22.318125 \n\" style=\"fill:none;stroke:#ffffff;stroke-linecap:round;\"/>\n     </g>\n     <g id=\"text_2\">\n      <!-- 0.5 -->\n      <defs>\n       <path d=\"M 10.796875 72.90625 \nL 49.515625 72.90625 \nL 49.515625 64.59375 \nL 19.828125 64.59375 \nL 19.828125 46.734375 \nQ 21.96875 47.46875 24.109375 47.828125 \nQ 26.265625 48.1875 28.421875 48.1875 \nQ 40.625 48.1875 47.75 41.5 \nQ 54.890625 34.8125 54.890625 23.390625 \nQ 54.890625 11.625 47.5625 5.09375 \nQ 40.234375 -1.421875 26.90625 -1.421875 \nQ 22.3125 -1.421875 17.546875 -0.640625 \nQ 12.796875 0.140625 7.71875 1.703125 \nL 7.71875 11.625 \nQ 12.109375 9.234375 16.796875 8.0625 \nQ 21.484375 6.890625 26.703125 6.890625 \nQ 35.15625 6.890625 40.078125 11.328125 \nQ 45.015625 15.765625 45.015625 23.390625 \nQ 45.015625 31 40.078125 35.4375 \nQ 35.15625 39.890625 26.703125 39.890625 \nQ 22.75 39.890625 18.8125 39.015625 \nQ 14.890625 38.140625 10.796875 36.28125 \nz\n\" id=\"DejaVuSans-53\"/>\n      </defs>\n      <g style=\"fill:#262626;\" transform=\"translate(165.280159 257.616406)scale(0.11 -0.11)\">\n       <use xlink:href=\"#DejaVuSans-48\"/>\n       <use x=\"63.623047\" xlink:href=\"#DejaVuSans-46\"/>\n       <use x=\"95.410156\" xlink:href=\"#DejaVuSans-53\"/>\n      </g>\n     </g>\n    </g>\n    <g id=\"xtick_3\">\n     <g id=\"line2d_3\">\n      <path clip-path=\"url(#p5a06f54070)\" d=\"M 241.779327 239.758125 \nL 241.779327 22.318125 \n\" style=\"fill:none;stroke:#ffffff;stroke-linecap:round;\"/>\n     </g>\n     <g id=\"text_3\">\n      <!-- 1.0 -->\n      <defs>\n       <path d=\"M 12.40625 8.296875 \nL 28.515625 8.296875 \nL 28.515625 63.921875 \nL 10.984375 60.40625 \nL 10.984375 69.390625 \nL 28.421875 72.90625 \nL 38.28125 72.90625 \nL 38.28125 8.296875 \nL 54.390625 8.296875 \nL 54.390625 0 \nL 12.40625 0 \nz\n\" id=\"DejaVuSans-49\"/>\n      </defs>\n      <g style=\"fill:#262626;\" transform=\"translate(233.032608 257.616406)scale(0.11 -0.11)\">\n       <use xlink:href=\"#DejaVuSans-49\"/>\n       <use x=\"63.623047\" xlink:href=\"#DejaVuSans-46\"/>\n       <use x=\"95.410156\" xlink:href=\"#DejaVuSans-48\"/>\n      </g>\n     </g>\n    </g>\n    <g id=\"text_4\">\n     <!-- $x_1$ -->\n     <defs>\n      <path d=\"M 60.015625 54.6875 \nL 34.90625 27.875 \nL 50.296875 0 \nL 39.984375 0 \nL 28.421875 21.6875 \nL 8.296875 0 \nL -2.59375 0 \nL 24.3125 28.8125 \nL 10.015625 54.6875 \nL 20.3125 54.6875 \nL 30.8125 34.90625 \nL 49.125 54.6875 \nz\n\" id=\"DejaVuSans-Oblique-120\"/>\n     </defs>\n     <g style=\"fill:#262626;\" transform=\"translate(164.204844 273.022188)scale(0.12 -0.12)\">\n      <use transform=\"translate(0 0.3125)\" xlink:href=\"#DejaVuSans-Oblique-120\"/>\n      <use transform=\"translate(59.179688 -16.09375)scale(0.7)\" xlink:href=\"#DejaVuSans-49\"/>\n     </g>\n    </g>\n   </g>\n   <g id=\"matplotlib.axis_2\">\n    <g id=\"ytick_1\">\n     <g id=\"line2d_4\">\n      <path clip-path=\"url(#p5a06f54070)\" d=\"M 59.024844 227.489368 \nL 282.224844 227.489368 \n\" style=\"fill:none;stroke:#ffffff;stroke-linecap:round;\"/>\n     </g>\n     <g id=\"text_5\">\n      <!-- −0.2 -->\n      <defs>\n       <path d=\"M 10.59375 35.5 \nL 73.1875 35.5 \nL 73.1875 27.203125 \nL 10.59375 27.203125 \nz\n\" id=\"DejaVuSans-8722\"/>\n       <path d=\"M 19.1875 8.296875 \nL 53.609375 8.296875 \nL 53.609375 0 \nL 7.328125 0 \nL 7.328125 8.296875 \nQ 12.9375 14.109375 22.625 23.890625 \nQ 32.328125 33.6875 34.8125 36.53125 \nQ 39.546875 41.84375 41.421875 45.53125 \nQ 43.3125 49.21875 43.3125 52.78125 \nQ 43.3125 58.59375 39.234375 62.25 \nQ 35.15625 65.921875 28.609375 65.921875 \nQ 23.96875 65.921875 18.8125 64.3125 \nQ 13.671875 62.703125 7.8125 59.421875 \nL 7.8125 69.390625 \nQ 13.765625 71.78125 18.9375 73 \nQ 24.125 74.21875 28.421875 74.21875 \nQ 39.75 74.21875 46.484375 68.546875 \nQ 53.21875 62.890625 53.21875 53.421875 \nQ 53.21875 48.921875 51.53125 44.890625 \nQ 49.859375 40.875 45.40625 35.40625 \nQ 44.1875 33.984375 37.640625 27.21875 \nQ 31.109375 20.453125 19.1875 8.296875 \nz\n\" id=\"DejaVuSans-50\"/>\n      </defs>\n      <g style=\"fill:#262626;\" transform=\"translate(22.81375 231.668509)scale(0.11 -0.11)\">\n       <use xlink:href=\"#DejaVuSans-8722\"/>\n       <use x=\"83.789062\" xlink:href=\"#DejaVuSans-48\"/>\n       <use x=\"147.412109\" xlink:href=\"#DejaVuSans-46\"/>\n       <use x=\"179.199219\" xlink:href=\"#DejaVuSans-50\"/>\n      </g>\n     </g>\n    </g>\n    <g id=\"ytick_2\">\n     <g id=\"line2d_5\">\n      <path clip-path=\"url(#p5a06f54070)\" d=\"M 59.024844 200.014896 \nL 282.224844 200.014896 \n\" style=\"fill:none;stroke:#ffffff;stroke-linecap:round;\"/>\n     </g>\n     <g id=\"text_6\">\n      <!-- 0.0 -->\n      <g style=\"fill:#262626;\" transform=\"translate(32.031406 204.194036)scale(0.11 -0.11)\">\n       <use xlink:href=\"#DejaVuSans-48\"/>\n       <use x=\"63.623047\" xlink:href=\"#DejaVuSans-46\"/>\n       <use x=\"95.410156\" xlink:href=\"#DejaVuSans-48\"/>\n      </g>\n     </g>\n    </g>\n    <g id=\"ytick_3\">\n     <g id=\"line2d_6\">\n      <path clip-path=\"url(#p5a06f54070)\" d=\"M 59.024844 172.540424 \nL 282.224844 172.540424 \n\" style=\"fill:none;stroke:#ffffff;stroke-linecap:round;\"/>\n     </g>\n     <g id=\"text_7\">\n      <!-- 0.2 -->\n      <g style=\"fill:#262626;\" transform=\"translate(32.031406 176.719564)scale(0.11 -0.11)\">\n       <use xlink:href=\"#DejaVuSans-48\"/>\n       <use x=\"63.623047\" xlink:href=\"#DejaVuSans-46\"/>\n       <use x=\"95.410156\" xlink:href=\"#DejaVuSans-50\"/>\n      </g>\n     </g>\n    </g>\n    <g id=\"ytick_4\">\n     <g id=\"line2d_7\">\n      <path clip-path=\"url(#p5a06f54070)\" d=\"M 59.024844 145.065951 \nL 282.224844 145.065951 \n\" style=\"fill:none;stroke:#ffffff;stroke-linecap:round;\"/>\n     </g>\n     <g id=\"text_8\">\n      <!-- 0.4 -->\n      <defs>\n       <path d=\"M 37.796875 64.3125 \nL 12.890625 25.390625 \nL 37.796875 25.390625 \nz\nM 35.203125 72.90625 \nL 47.609375 72.90625 \nL 47.609375 25.390625 \nL 58.015625 25.390625 \nL 58.015625 17.1875 \nL 47.609375 17.1875 \nL 47.609375 0 \nL 37.796875 0 \nL 37.796875 17.1875 \nL 4.890625 17.1875 \nL 4.890625 26.703125 \nz\n\" id=\"DejaVuSans-52\"/>\n      </defs>\n      <g style=\"fill:#262626;\" transform=\"translate(32.031406 149.245092)scale(0.11 -0.11)\">\n       <use xlink:href=\"#DejaVuSans-48\"/>\n       <use x=\"63.623047\" xlink:href=\"#DejaVuSans-46\"/>\n       <use x=\"95.410156\" xlink:href=\"#DejaVuSans-52\"/>\n      </g>\n     </g>\n    </g>\n    <g id=\"ytick_5\">\n     <g id=\"line2d_8\">\n      <path clip-path=\"url(#p5a06f54070)\" d=\"M 59.024844 117.591479 \nL 282.224844 117.591479 \n\" style=\"fill:none;stroke:#ffffff;stroke-linecap:round;\"/>\n     </g>\n     <g id=\"text_9\">\n      <!-- 0.6 -->\n      <defs>\n       <path d=\"M 33.015625 40.375 \nQ 26.375 40.375 22.484375 35.828125 \nQ 18.609375 31.296875 18.609375 23.390625 \nQ 18.609375 15.53125 22.484375 10.953125 \nQ 26.375 6.390625 33.015625 6.390625 \nQ 39.65625 6.390625 43.53125 10.953125 \nQ 47.40625 15.53125 47.40625 23.390625 \nQ 47.40625 31.296875 43.53125 35.828125 \nQ 39.65625 40.375 33.015625 40.375 \nz\nM 52.59375 71.296875 \nL 52.59375 62.3125 \nQ 48.875 64.0625 45.09375 64.984375 \nQ 41.3125 65.921875 37.59375 65.921875 \nQ 27.828125 65.921875 22.671875 59.328125 \nQ 17.53125 52.734375 16.796875 39.40625 \nQ 19.671875 43.65625 24.015625 45.921875 \nQ 28.375 48.1875 33.59375 48.1875 \nQ 44.578125 48.1875 50.953125 41.515625 \nQ 57.328125 34.859375 57.328125 23.390625 \nQ 57.328125 12.15625 50.6875 5.359375 \nQ 44.046875 -1.421875 33.015625 -1.421875 \nQ 20.359375 -1.421875 13.671875 8.265625 \nQ 6.984375 17.96875 6.984375 36.375 \nQ 6.984375 53.65625 15.1875 63.9375 \nQ 23.390625 74.21875 37.203125 74.21875 \nQ 40.921875 74.21875 44.703125 73.484375 \nQ 48.484375 72.75 52.59375 71.296875 \nz\n\" id=\"DejaVuSans-54\"/>\n      </defs>\n      <g style=\"fill:#262626;\" transform=\"translate(32.031406 121.77062)scale(0.11 -0.11)\">\n       <use xlink:href=\"#DejaVuSans-48\"/>\n       <use x=\"63.623047\" xlink:href=\"#DejaVuSans-46\"/>\n       <use x=\"95.410156\" xlink:href=\"#DejaVuSans-54\"/>\n      </g>\n     </g>\n    </g>\n    <g id=\"ytick_6\">\n     <g id=\"line2d_9\">\n      <path clip-path=\"url(#p5a06f54070)\" d=\"M 59.024844 90.117007 \nL 282.224844 90.117007 \n\" style=\"fill:none;stroke:#ffffff;stroke-linecap:round;\"/>\n     </g>\n     <g id=\"text_10\">\n      <!-- 0.8 -->\n      <defs>\n       <path d=\"M 31.78125 34.625 \nQ 24.75 34.625 20.71875 30.859375 \nQ 16.703125 27.09375 16.703125 20.515625 \nQ 16.703125 13.921875 20.71875 10.15625 \nQ 24.75 6.390625 31.78125 6.390625 \nQ 38.8125 6.390625 42.859375 10.171875 \nQ 46.921875 13.96875 46.921875 20.515625 \nQ 46.921875 27.09375 42.890625 30.859375 \nQ 38.875 34.625 31.78125 34.625 \nz\nM 21.921875 38.8125 \nQ 15.578125 40.375 12.03125 44.71875 \nQ 8.5 49.078125 8.5 55.328125 \nQ 8.5 64.0625 14.71875 69.140625 \nQ 20.953125 74.21875 31.78125 74.21875 \nQ 42.671875 74.21875 48.875 69.140625 \nQ 55.078125 64.0625 55.078125 55.328125 \nQ 55.078125 49.078125 51.53125 44.71875 \nQ 48 40.375 41.703125 38.8125 \nQ 48.828125 37.15625 52.796875 32.3125 \nQ 56.78125 27.484375 56.78125 20.515625 \nQ 56.78125 9.90625 50.3125 4.234375 \nQ 43.84375 -1.421875 31.78125 -1.421875 \nQ 19.734375 -1.421875 13.25 4.234375 \nQ 6.78125 9.90625 6.78125 20.515625 \nQ 6.78125 27.484375 10.78125 32.3125 \nQ 14.796875 37.15625 21.921875 38.8125 \nz\nM 18.3125 54.390625 \nQ 18.3125 48.734375 21.84375 45.5625 \nQ 25.390625 42.390625 31.78125 42.390625 \nQ 38.140625 42.390625 41.71875 45.5625 \nQ 45.3125 48.734375 45.3125 54.390625 \nQ 45.3125 60.0625 41.71875 63.234375 \nQ 38.140625 66.40625 31.78125 66.40625 \nQ 25.390625 66.40625 21.84375 63.234375 \nQ 18.3125 60.0625 18.3125 54.390625 \nz\n\" id=\"DejaVuSans-56\"/>\n      </defs>\n      <g style=\"fill:#262626;\" transform=\"translate(32.031406 94.296147)scale(0.11 -0.11)\">\n       <use xlink:href=\"#DejaVuSans-48\"/>\n       <use x=\"63.623047\" xlink:href=\"#DejaVuSans-46\"/>\n       <use x=\"95.410156\" xlink:href=\"#DejaVuSans-56\"/>\n      </g>\n     </g>\n    </g>\n    <g id=\"ytick_7\">\n     <g id=\"line2d_10\">\n      <path clip-path=\"url(#p5a06f54070)\" d=\"M 59.024844 62.642534 \nL 282.224844 62.642534 \n\" style=\"fill:none;stroke:#ffffff;stroke-linecap:round;\"/>\n     </g>\n     <g id=\"text_11\">\n      <!-- 1.0 -->\n      <g style=\"fill:#262626;\" transform=\"translate(32.031406 66.821675)scale(0.11 -0.11)\">\n       <use xlink:href=\"#DejaVuSans-49\"/>\n       <use x=\"63.623047\" xlink:href=\"#DejaVuSans-46\"/>\n       <use x=\"95.410156\" xlink:href=\"#DejaVuSans-48\"/>\n      </g>\n     </g>\n    </g>\n    <g id=\"ytick_8\">\n     <g id=\"line2d_11\">\n      <path clip-path=\"url(#p5a06f54070)\" d=\"M 59.024844 35.168062 \nL 282.224844 35.168062 \n\" style=\"fill:none;stroke:#ffffff;stroke-linecap:round;\"/>\n     </g>\n     <g id=\"text_12\">\n      <!-- 1.2 -->\n      <g style=\"fill:#262626;\" transform=\"translate(32.031406 39.347203)scale(0.11 -0.11)\">\n       <use xlink:href=\"#DejaVuSans-49\"/>\n       <use x=\"63.623047\" xlink:href=\"#DejaVuSans-46\"/>\n       <use x=\"95.410156\" xlink:href=\"#DejaVuSans-50\"/>\n      </g>\n     </g>\n    </g>\n    <g id=\"text_13\">\n     <!-- $x_2$ -->\n     <g style=\"fill:#262626;\" transform=\"translate(16.318125 137.458125)rotate(-90)scale(0.12 -0.12)\">\n      <use transform=\"translate(0 0.3125)\" xlink:href=\"#DejaVuSans-Oblique-120\"/>\n      <use transform=\"translate(59.179688 -16.09375)scale(0.7)\" xlink:href=\"#DejaVuSans-50\"/>\n     </g>\n    </g>\n   </g>\n   <g id=\"PathCollection_1\">\n    <defs>\n     <path d=\"M 0 3 \nC 0.795609 3 1.55874 2.683901 2.12132 2.12132 \nC 2.683901 1.55874 3 0.795609 3 0 \nC 3 -0.795609 2.683901 -1.55874 2.12132 -2.12132 \nC 1.55874 -2.683901 0.795609 -3 0 -3 \nC -0.795609 -3 -1.55874 -2.683901 -2.12132 -2.12132 \nC -2.683901 -1.55874 -3 -0.795609 -3 0 \nC -3 0.795609 -2.683901 1.55874 -2.12132 2.12132 \nC -1.55874 2.683901 -0.795609 3 0 3 \nz\n\" id=\"m83c34e16e8\" style=\"stroke:#333333;\"/>\n    </defs>\n    <g clip-path=\"url(#p5a06f54070)\">\n     <use style=\"fill:#4c72b0;stroke:#333333;\" x=\"261.935754\" xlink:href=\"#m83c34e16e8\" y=\"50.672993\"/>\n     <use style=\"fill:#4c72b0;stroke:#333333;\" x=\"223.233979\" xlink:href=\"#m83c34e16e8\" y=\"40.231861\"/>\n     <use style=\"fill:#4c72b0;stroke:#333333;\" x=\"249.326296\" xlink:href=\"#m83c34e16e8\" y=\"42.005274\"/>\n     <use style=\"fill:#4c72b0;stroke:#333333;\" x=\"88.827857\" xlink:href=\"#m83c34e16e8\" y=\"195.159732\"/>\n     <use style=\"fill:#4c72b0;stroke:#333333;\" x=\"237.720702\" xlink:href=\"#m83c34e16e8\" y=\"84.82278\"/>\n     <use style=\"fill:#4c72b0;stroke:#333333;\" x=\"123.211921\" xlink:href=\"#m83c34e16e8\" y=\"218.360686\"/>\n     <use style=\"fill:#4c72b0;stroke:#333333;\" x=\"108.625731\" xlink:href=\"#m83c34e16e8\" y=\"200.378091\"/>\n     <use style=\"fill:#4c72b0;stroke:#333333;\" x=\"262.917593\" xlink:href=\"#m83c34e16e8\" y=\"82.431457\"/>\n     <use style=\"fill:#4c72b0;stroke:#333333;\" x=\"128.025251\" xlink:href=\"#m83c34e16e8\" y=\"190.561613\"/>\n     <use style=\"fill:#4c72b0;stroke:#333333;\" x=\"222.161625\" xlink:href=\"#m83c34e16e8\" y=\"48.559564\"/>\n     <use style=\"fill:#4c72b0;stroke:#333333;\" x=\"216.520068\" xlink:href=\"#m83c34e16e8\" y=\"51.874488\"/>\n     <use style=\"fill:#4c72b0;stroke:#333333;\" x=\"98.107587\" xlink:href=\"#m83c34e16e8\" y=\"208.15401\"/>\n     <use style=\"fill:#4c72b0;stroke:#333333;\" x=\"211.637003\" xlink:href=\"#m83c34e16e8\" y=\"57.226643\"/>\n     <use style=\"fill:#4c72b0;stroke:#333333;\" x=\"110.829499\" xlink:href=\"#m83c34e16e8\" y=\"196.041951\"/>\n     <use style=\"fill:#4c72b0;stroke:#333333;\" x=\"232.736081\" xlink:href=\"#m83c34e16e8\" y=\"55.267002\"/>\n     <use style=\"fill:#4c72b0;stroke:#333333;\" x=\"241.773076\" xlink:href=\"#m83c34e16e8\" y=\"60.766002\"/>\n     <use style=\"fill:#4c72b0;stroke:#333333;\" x=\"118.157869\" xlink:href=\"#m83c34e16e8\" y=\"204.958529\"/>\n     <use style=\"fill:#4c72b0;stroke:#333333;\" x=\"241.588991\" xlink:href=\"#m83c34e16e8\" y=\"64.583335\"/>\n     <use style=\"fill:#4c72b0;stroke:#333333;\" x=\"112.940195\" xlink:href=\"#m83c34e16e8\" y=\"171.70889\"/>\n     <use style=\"fill:#4c72b0;stroke:#333333;\" x=\"90.982943\" xlink:href=\"#m83c34e16e8\" y=\"203.154527\"/>\n     <use style=\"fill:#4c72b0;stroke:#333333;\" x=\"235.365142\" xlink:href=\"#m83c34e16e8\" y=\"70.09903\"/>\n     <use style=\"fill:#4c72b0;stroke:#333333;\" x=\"252.768336\" xlink:href=\"#m83c34e16e8\" y=\"69.027282\"/>\n     <use style=\"fill:#4c72b0;stroke:#333333;\" x=\"266.196451\" xlink:href=\"#m83c34e16e8\" y=\"52.052692\"/>\n     <use style=\"fill:#4c72b0;stroke:#333333;\" x=\"118.276163\" xlink:href=\"#m83c34e16e8\" y=\"210.390273\"/>\n     <use style=\"fill:#4c72b0;stroke:#333333;\" x=\"102.049867\" xlink:href=\"#m83c34e16e8\" y=\"168.012381\"/>\n     <use style=\"fill:#4c72b0;stroke:#333333;\" x=\"228.993401\" xlink:href=\"#m83c34e16e8\" y=\"67.023\"/>\n     <use style=\"fill:#4c72b0;stroke:#333333;\" x=\"121.270989\" xlink:href=\"#m83c34e16e8\" y=\"203.53153\"/>\n     <use style=\"fill:#4c72b0;stroke:#333333;\" x=\"226.364549\" xlink:href=\"#m83c34e16e8\" y=\"67.707085\"/>\n     <use style=\"fill:#4c72b0;stroke:#333333;\" x=\"110.628833\" xlink:href=\"#m83c34e16e8\" y=\"224.654758\"/>\n     <use style=\"fill:#4c72b0;stroke:#333333;\" x=\"232.95017\" xlink:href=\"#m83c34e16e8\" y=\"37.507311\"/>\n     <use style=\"fill:#4c72b0;stroke:#333333;\" x=\"235.433818\" xlink:href=\"#m83c34e16e8\" y=\"81.491717\"/>\n     <use style=\"fill:#4c72b0;stroke:#333333;\" x=\"108.057082\" xlink:href=\"#m83c34e16e8\" y=\"187.374957\"/>\n     <use style=\"fill:#4c72b0;stroke:#333333;\" x=\"115.303689\" xlink:href=\"#m83c34e16e8\" y=\"209.355928\"/>\n     <use style=\"fill:#4c72b0;stroke:#333333;\" x=\"228.910784\" xlink:href=\"#m83c34e16e8\" y=\"38.416428\"/>\n     <use style=\"fill:#4c72b0;stroke:#333333;\" x=\"113.308892\" xlink:href=\"#m83c34e16e8\" y=\"203.315986\"/>\n     <use style=\"fill:#4c72b0;stroke:#333333;\" x=\"120.072409\" xlink:href=\"#m83c34e16e8\" y=\"187.99056\"/>\n     <use style=\"fill:#4c72b0;stroke:#333333;\" x=\"222.99721\" xlink:href=\"#m83c34e16e8\" y=\"85.459973\"/>\n     <use style=\"fill:#4c72b0;stroke:#333333;\" x=\"106.54123\" xlink:href=\"#m83c34e16e8\" y=\"213.084943\"/>\n     <use style=\"fill:#4c72b0;stroke:#333333;\" x=\"252.10787\" xlink:href=\"#m83c34e16e8\" y=\"68.51725\"/>\n     <use style=\"fill:#4c72b0;stroke:#333333;\" x=\"232.934824\" xlink:href=\"#m83c34e16e8\" y=\"66.25326\"/>\n     <use style=\"fill:#4c72b0;stroke:#333333;\" x=\"257.489681\" xlink:href=\"#m83c34e16e8\" y=\"81.256901\"/>\n     <use style=\"fill:#4c72b0;stroke:#333333;\" x=\"239.957962\" xlink:href=\"#m83c34e16e8\" y=\"73.141359\"/>\n     <use style=\"fill:#4c72b0;stroke:#333333;\" x=\"224.246243\" xlink:href=\"#m83c34e16e8\" y=\"78.604151\"/>\n     <use style=\"fill:#4c72b0;stroke:#333333;\" x=\"231.458553\" xlink:href=\"#m83c34e16e8\" y=\"54.852033\"/>\n     <use style=\"fill:#4c72b0;stroke:#333333;\" x=\"249.938366\" xlink:href=\"#m83c34e16e8\" y=\"82.802457\"/>\n     <use style=\"fill:#4c72b0;stroke:#333333;\" x=\"94.740863\" xlink:href=\"#m83c34e16e8\" y=\"178.934618\"/>\n     <use style=\"fill:#4c72b0;stroke:#333333;\" x=\"124.149639\" xlink:href=\"#m83c34e16e8\" y=\"199.671698\"/>\n     <use style=\"fill:#4c72b0;stroke:#333333;\" x=\"235.983367\" xlink:href=\"#m83c34e16e8\" y=\"51.379571\"/>\n     <use style=\"fill:#4c72b0;stroke:#333333;\" x=\"92.304057\" xlink:href=\"#m83c34e16e8\" y=\"187.553485\"/>\n     <use style=\"fill:#4c72b0;stroke:#333333;\" x=\"134.671131\" xlink:href=\"#m83c34e16e8\" y=\"189.842615\"/>\n     <use style=\"fill:#4c72b0;stroke:#333333;\" x=\"231.850581\" xlink:href=\"#m83c34e16e8\" y=\"73.248892\"/>\n     <use style=\"fill:#4c72b0;stroke:#333333;\" x=\"107.524686\" xlink:href=\"#m83c34e16e8\" y=\"201.913389\"/>\n     <use style=\"fill:#4c72b0;stroke:#333333;\" x=\"248.684552\" xlink:href=\"#m83c34e16e8\" y=\"60.752278\"/>\n     <use style=\"fill:#4c72b0;stroke:#333333;\" x=\"103.908454\" xlink:href=\"#m83c34e16e8\" y=\"205.168595\"/>\n     <use style=\"fill:#4c72b0;stroke:#333333;\" x=\"98.650706\" xlink:href=\"#m83c34e16e8\" y=\"191.423601\"/>\n     <use style=\"fill:#4c72b0;stroke:#333333;\" x=\"218.406943\" xlink:href=\"#m83c34e16e8\" y=\"52.18298\"/>\n     <use style=\"fill:#4c72b0;stroke:#333333;\" x=\"91.311842\" xlink:href=\"#m83c34e16e8\" y=\"202.66333\"/>\n     <use style=\"fill:#4c72b0;stroke:#333333;\" x=\"86.634435\" xlink:href=\"#m83c34e16e8\" y=\"205.258674\"/>\n     <use style=\"fill:#4c72b0;stroke:#333333;\" x=\"228.166587\" xlink:href=\"#m83c34e16e8\" y=\"71.818386\"/>\n     <use style=\"fill:#4c72b0;stroke:#333333;\" x=\"102.103222\" xlink:href=\"#m83c34e16e8\" y=\"209.512208\"/>\n     <use style=\"fill:#4c72b0;stroke:#333333;\" x=\"235.439933\" xlink:href=\"#m83c34e16e8\" y=\"57.57863\"/>\n     <use style=\"fill:#4c72b0;stroke:#333333;\" x=\"234.117313\" xlink:href=\"#m83c34e16e8\" y=\"78.284449\"/>\n     <use style=\"fill:#4c72b0;stroke:#333333;\" x=\"115.854132\" xlink:href=\"#m83c34e16e8\" y=\"201.299523\"/>\n     <use style=\"fill:#4c72b0;stroke:#333333;\" x=\"100.362092\" xlink:href=\"#m83c34e16e8\" y=\"199.192655\"/>\n     <use style=\"fill:#4c72b0;stroke:#333333;\" x=\"250.198614\" xlink:href=\"#m83c34e16e8\" y=\"69.394303\"/>\n     <use style=\"fill:#4c72b0;stroke:#333333;\" x=\"227.350878\" xlink:href=\"#m83c34e16e8\" y=\"72.220762\"/>\n     <use style=\"fill:#4c72b0;stroke:#333333;\" x=\"247.619539\" xlink:href=\"#m83c34e16e8\" y=\"65.339295\"/>\n     <use style=\"fill:#4c72b0;stroke:#333333;\" x=\"240.580741\" xlink:href=\"#m83c34e16e8\" y=\"53.556604\"/>\n     <use style=\"fill:#4c72b0;stroke:#333333;\" x=\"223.644059\" xlink:href=\"#m83c34e16e8\" y=\"67.288202\"/>\n     <use style=\"fill:#4c72b0;stroke:#333333;\" x=\"249.608755\" xlink:href=\"#m83c34e16e8\" y=\"56.995348\"/>\n     <use style=\"fill:#4c72b0;stroke:#333333;\" x=\"102.695133\" xlink:href=\"#m83c34e16e8\" y=\"202.926713\"/>\n     <use style=\"fill:#4c72b0;stroke:#333333;\" x=\"248.821146\" xlink:href=\"#m83c34e16e8\" y=\"76.206384\"/>\n     <use style=\"fill:#4c72b0;stroke:#333333;\" x=\"81.137207\" xlink:href=\"#m83c34e16e8\" y=\"210.239743\"/>\n     <use style=\"fill:#4c72b0;stroke:#333333;\" x=\"218.11631\" xlink:href=\"#m83c34e16e8\" y=\"63.439173\"/>\n     <use style=\"fill:#4c72b0;stroke:#333333;\" x=\"245.082221\" xlink:href=\"#m83c34e16e8\" y=\"49.499288\"/>\n     <use style=\"fill:#4c72b0;stroke:#333333;\" x=\"223.010731\" xlink:href=\"#m83c34e16e8\" y=\"72.879718\"/>\n     <use style=\"fill:#4c72b0;stroke:#333333;\" x=\"246.964307\" xlink:href=\"#m83c34e16e8\" y=\"82.328755\"/>\n     <use style=\"fill:#4c72b0;stroke:#333333;\" x=\"149.585815\" xlink:href=\"#m83c34e16e8\" y=\"223.182129\"/>\n     <use style=\"fill:#4c72b0;stroke:#333333;\" x=\"237.208638\" xlink:href=\"#m83c34e16e8\" y=\"46.012742\"/>\n     <use style=\"fill:#4c72b0;stroke:#333333;\" x=\"237.357702\" xlink:href=\"#m83c34e16e8\" y=\"60.976974\"/>\n     <use style=\"fill:#4c72b0;stroke:#333333;\" x=\"107.182242\" xlink:href=\"#m83c34e16e8\" y=\"188.737664\"/>\n     <use style=\"fill:#4c72b0;stroke:#333333;\" x=\"94.696867\" xlink:href=\"#m83c34e16e8\" y=\"212.216115\"/>\n     <use style=\"fill:#4c72b0;stroke:#333333;\" x=\"231.309893\" xlink:href=\"#m83c34e16e8\" y=\"45.426512\"/>\n     <use style=\"fill:#4c72b0;stroke:#333333;\" x=\"100.054675\" xlink:href=\"#m83c34e16e8\" y=\"183.163183\"/>\n     <use style=\"fill:#4c72b0;stroke:#333333;\" x=\"106.898664\" xlink:href=\"#m83c34e16e8\" y=\"205.282653\"/>\n     <use style=\"fill:#4c72b0;stroke:#333333;\" x=\"232.257131\" xlink:href=\"#m83c34e16e8\" y=\"82.076752\"/>\n     <use style=\"fill:#4c72b0;stroke:#333333;\" x=\"241.967498\" xlink:href=\"#m83c34e16e8\" y=\"53.686827\"/>\n     <use style=\"fill:#4c72b0;stroke:#333333;\" x=\"69.170298\" xlink:href=\"#m83c34e16e8\" y=\"204.5916\"/>\n     <use style=\"fill:#4c72b0;stroke:#333333;\" x=\"267.462509\" xlink:href=\"#m83c34e16e8\" y=\"47.629109\"/>\n     <use style=\"fill:#4c72b0;stroke:#333333;\" x=\"249.420212\" xlink:href=\"#m83c34e16e8\" y=\"54.107217\"/>\n     <use style=\"fill:#4c72b0;stroke:#333333;\" x=\"249.257385\" xlink:href=\"#m83c34e16e8\" y=\"60.574287\"/>\n     <use style=\"fill:#4c72b0;stroke:#333333;\" x=\"87.881156\" xlink:href=\"#m83c34e16e8\" y=\"212.224357\"/>\n     <use style=\"fill:#4c72b0;stroke:#333333;\" x=\"95.416408\" xlink:href=\"#m83c34e16e8\" y=\"196.948529\"/>\n     <use style=\"fill:#4c72b0;stroke:#333333;\" x=\"238.519473\" xlink:href=\"#m83c34e16e8\" y=\"65.382004\"/>\n     <use style=\"fill:#4c72b0;stroke:#333333;\" x=\"98.165292\" xlink:href=\"#m83c34e16e8\" y=\"170.122356\"/>\n     <use style=\"fill:#4c72b0;stroke:#333333;\" x=\"219.704307\" xlink:href=\"#m83c34e16e8\" y=\"50.12577\"/>\n     <use style=\"fill:#4c72b0;stroke:#333333;\" x=\"114.837157\" xlink:href=\"#m83c34e16e8\" y=\"202.089573\"/>\n     <use style=\"fill:#4c72b0;stroke:#333333;\" x=\"234.183994\" xlink:href=\"#m83c34e16e8\" y=\"48.047468\"/>\n     <use style=\"fill:#4c72b0;stroke:#333333;\" x=\"248.663714\" xlink:href=\"#m83c34e16e8\" y=\"54.520057\"/>\n     <use style=\"fill:#4c72b0;stroke:#333333;\" x=\"105.539265\" xlink:href=\"#m83c34e16e8\" y=\"229.463529\"/>\n     <use style=\"fill:#4c72b0;stroke:#333333;\" x=\"116.816354\" xlink:href=\"#m83c34e16e8\" y=\"156.315093\"/>\n     <use style=\"fill:#4c72b0;stroke:#333333;\" x=\"258.666524\" xlink:href=\"#m83c34e16e8\" y=\"50.14606\"/>\n     <use style=\"fill:#4c72b0;stroke:#333333;\" x=\"240.698759\" xlink:href=\"#m83c34e16e8\" y=\"78.445835\"/>\n     <use style=\"fill:#4c72b0;stroke:#333333;\" x=\"105.715486\" xlink:href=\"#m83c34e16e8\" y=\"195.009914\"/>\n     <use style=\"fill:#4c72b0;stroke:#333333;\" x=\"264.412384\" xlink:href=\"#m83c34e16e8\" y=\"44.690866\"/>\n     <use style=\"fill:#4c72b0;stroke:#333333;\" x=\"87.68509\" xlink:href=\"#m83c34e16e8\" y=\"209.335655\"/>\n     <use style=\"fill:#4c72b0;stroke:#333333;\" x=\"240.639185\" xlink:href=\"#m83c34e16e8\" y=\"84.877779\"/>\n     <use style=\"fill:#4c72b0;stroke:#333333;\" x=\"239.268937\" xlink:href=\"#m83c34e16e8\" y=\"46.745997\"/>\n     <use style=\"fill:#4c72b0;stroke:#333333;\" x=\"138.058191\" xlink:href=\"#m83c34e16e8\" y=\"191.503651\"/>\n     <use style=\"fill:#4c72b0;stroke:#333333;\" x=\"119.62039\" xlink:href=\"#m83c34e16e8\" y=\"229.874489\"/>\n     <use style=\"fill:#4c72b0;stroke:#333333;\" x=\"103.809876\" xlink:href=\"#m83c34e16e8\" y=\"207.806118\"/>\n     <use style=\"fill:#4c72b0;stroke:#333333;\" x=\"250.152965\" xlink:href=\"#m83c34e16e8\" y=\"79.231133\"/>\n     <use style=\"fill:#4c72b0;stroke:#333333;\" x=\"245.761409\" xlink:href=\"#m83c34e16e8\" y=\"51.340596\"/>\n     <use style=\"fill:#4c72b0;stroke:#333333;\" x=\"114.369938\" xlink:href=\"#m83c34e16e8\" y=\"217.230898\"/>\n     <use style=\"fill:#4c72b0;stroke:#333333;\" x=\"108.907043\" xlink:href=\"#m83c34e16e8\" y=\"191.030647\"/>\n    </g>\n   </g>\n   <g id=\"PathCollection_2\">\n    <defs>\n     <path d=\"M 0 3 \nC 0.795609 3 1.55874 2.683901 2.12132 2.12132 \nC 2.683901 1.55874 3 0.795609 3 0 \nC 3 -0.795609 2.683901 -1.55874 2.12132 -2.12132 \nC 1.55874 -2.683901 0.795609 -3 0 -3 \nC -0.795609 -3 -1.55874 -2.683901 -2.12132 -2.12132 \nC -2.683901 -1.55874 -3 -0.795609 -3 0 \nC -3 0.795609 -2.683901 1.55874 -2.12132 2.12132 \nC -1.55874 2.683901 -0.795609 3 0 3 \nz\n\" id=\"m0e7a20540f\" style=\"stroke:#333333;\"/>\n    </defs>\n    <g clip-path=\"url(#p5a06f54070)\">\n     <use style=\"fill:#dd8452;stroke:#333333;\" x=\"257.577717\" xlink:href=\"#m0e7a20540f\" y=\"187.411175\"/>\n     <use style=\"fill:#dd8452;stroke:#333333;\" x=\"96.748422\" xlink:href=\"#m0e7a20540f\" y=\"55.130851\"/>\n     <use style=\"fill:#dd8452;stroke:#333333;\" x=\"247.876056\" xlink:href=\"#m0e7a20540f\" y=\"202.425821\"/>\n     <use style=\"fill:#dd8452;stroke:#333333;\" x=\"85.808633\" xlink:href=\"#m0e7a20540f\" y=\"41.887137\"/>\n     <use style=\"fill:#dd8452;stroke:#333333;\" x=\"105.032744\" xlink:href=\"#m0e7a20540f\" y=\"64.463389\"/>\n     <use style=\"fill:#dd8452;stroke:#333333;\" x=\"230.631812\" xlink:href=\"#m0e7a20540f\" y=\"212.859837\"/>\n     <use style=\"fill:#dd8452;stroke:#333333;\" x=\"252.218037\" xlink:href=\"#m0e7a20540f\" y=\"192.083249\"/>\n     <use style=\"fill:#dd8452;stroke:#333333;\" x=\"108.972979\" xlink:href=\"#m0e7a20540f\" y=\"77.575136\"/>\n     <use style=\"fill:#dd8452;stroke:#333333;\" x=\"243.364933\" xlink:href=\"#m0e7a20540f\" y=\"188.194987\"/>\n     <use style=\"fill:#dd8452;stroke:#333333;\" x=\"254.384553\" xlink:href=\"#m0e7a20540f\" y=\"188.220866\"/>\n     <use style=\"fill:#dd8452;stroke:#333333;\" x=\"102.971869\" xlink:href=\"#m0e7a20540f\" y=\"75.984751\"/>\n     <use style=\"fill:#dd8452;stroke:#333333;\" x=\"248.052193\" xlink:href=\"#m0e7a20540f\" y=\"227.360992\"/>\n     <use style=\"fill:#dd8452;stroke:#333333;\" x=\"128.282513\" xlink:href=\"#m0e7a20540f\" y=\"52.559941\"/>\n     <use style=\"fill:#dd8452;stroke:#333333;\" x=\"237.635912\" xlink:href=\"#m0e7a20540f\" y=\"206.406981\"/>\n     <use style=\"fill:#dd8452;stroke:#333333;\" x=\"117.217682\" xlink:href=\"#m0e7a20540f\" y=\"65.187243\"/>\n     <use style=\"fill:#dd8452;stroke:#333333;\" x=\"241.479042\" xlink:href=\"#m0e7a20540f\" y=\"207.154909\"/>\n     <use style=\"fill:#dd8452;stroke:#333333;\" x=\"90.828349\" xlink:href=\"#m0e7a20540f\" y=\"32.201761\"/>\n     <use style=\"fill:#dd8452;stroke:#333333;\" x=\"102.450274\" xlink:href=\"#m0e7a20540f\" y=\"59.916199\"/>\n     <use style=\"fill:#dd8452;stroke:#333333;\" x=\"249.081959\" xlink:href=\"#m0e7a20540f\" y=\"213.90252\"/>\n     <use style=\"fill:#dd8452;stroke:#333333;\" x=\"103.411631\" xlink:href=\"#m0e7a20540f\" y=\"71.971928\"/>\n     <use style=\"fill:#dd8452;stroke:#333333;\" x=\"246.63867\" xlink:href=\"#m0e7a20540f\" y=\"189.056016\"/>\n     <use style=\"fill:#dd8452;stroke:#333333;\" x=\"233.606541\" xlink:href=\"#m0e7a20540f\" y=\"197.808421\"/>\n     <use style=\"fill:#dd8452;stroke:#333333;\" x=\"258.918663\" xlink:href=\"#m0e7a20540f\" y=\"208.141212\"/>\n     <use style=\"fill:#dd8452;stroke:#333333;\" x=\"117.302048\" xlink:href=\"#m0e7a20540f\" y=\"65.729561\"/>\n     <use style=\"fill:#dd8452;stroke:#333333;\" x=\"255.093414\" xlink:href=\"#m0e7a20540f\" y=\"209.146483\"/>\n     <use style=\"fill:#dd8452;stroke:#333333;\" x=\"247.73998\" xlink:href=\"#m0e7a20540f\" y=\"212.521256\"/>\n     <use style=\"fill:#dd8452;stroke:#333333;\" x=\"108.078153\" xlink:href=\"#m0e7a20540f\" y=\"43.146719\"/>\n     <use style=\"fill:#dd8452;stroke:#333333;\" x=\"102.704672\" xlink:href=\"#m0e7a20540f\" y=\"68.49131\"/>\n     <use style=\"fill:#dd8452;stroke:#333333;\" x=\"95.184055\" xlink:href=\"#m0e7a20540f\" y=\"42.791358\"/>\n     <use style=\"fill:#dd8452;stroke:#333333;\" x=\"259.089243\" xlink:href=\"#m0e7a20540f\" y=\"188.901173\"/>\n     <use style=\"fill:#dd8452;stroke:#333333;\" x=\"99.562032\" xlink:href=\"#m0e7a20540f\" y=\"65.886919\"/>\n     <use style=\"fill:#dd8452;stroke:#333333;\" x=\"100.305204\" xlink:href=\"#m0e7a20540f\" y=\"50.639798\"/>\n     <use style=\"fill:#dd8452;stroke:#333333;\" x=\"112.088527\" xlink:href=\"#m0e7a20540f\" y=\"48.899547\"/>\n     <use style=\"fill:#dd8452;stroke:#333333;\" x=\"238.338393\" xlink:href=\"#m0e7a20540f\" y=\"182.34142\"/>\n     <use style=\"fill:#dd8452;stroke:#333333;\" x=\"252.991141\" xlink:href=\"#m0e7a20540f\" y=\"191.9508\"/>\n     <use style=\"fill:#dd8452;stroke:#333333;\" x=\"96.610932\" xlink:href=\"#m0e7a20540f\" y=\"81.010056\"/>\n     <use style=\"fill:#dd8452;stroke:#333333;\" x=\"97.989099\" xlink:href=\"#m0e7a20540f\" y=\"38.545569\"/>\n     <use style=\"fill:#dd8452;stroke:#333333;\" x=\"222.90264\" xlink:href=\"#m0e7a20540f\" y=\"194.781433\"/>\n     <use style=\"fill:#dd8452;stroke:#333333;\" x=\"254.712225\" xlink:href=\"#m0e7a20540f\" y=\"197.083772\"/>\n     <use style=\"fill:#dd8452;stroke:#333333;\" x=\"218.143731\" xlink:href=\"#m0e7a20540f\" y=\"180.617895\"/>\n     <use style=\"fill:#dd8452;stroke:#333333;\" x=\"238.138535\" xlink:href=\"#m0e7a20540f\" y=\"193.780317\"/>\n     <use style=\"fill:#dd8452;stroke:#333333;\" x=\"104.023162\" xlink:href=\"#m0e7a20540f\" y=\"80.145302\"/>\n     <use style=\"fill:#dd8452;stroke:#333333;\" x=\"247.597199\" xlink:href=\"#m0e7a20540f\" y=\"197.836216\"/>\n     <use style=\"fill:#dd8452;stroke:#333333;\" x=\"96.926651\" xlink:href=\"#m0e7a20540f\" y=\"71.175052\"/>\n     <use style=\"fill:#dd8452;stroke:#333333;\" x=\"226.977435\" xlink:href=\"#m0e7a20540f\" y=\"229.144294\"/>\n     <use style=\"fill:#dd8452;stroke:#333333;\" x=\"248.716116\" xlink:href=\"#m0e7a20540f\" y=\"193.469087\"/>\n     <use style=\"fill:#dd8452;stroke:#333333;\" x=\"90.97047\" xlink:href=\"#m0e7a20540f\" y=\"55.116359\"/>\n     <use style=\"fill:#dd8452;stroke:#333333;\" x=\"100.131166\" xlink:href=\"#m0e7a20540f\" y=\"66.497893\"/>\n     <use style=\"fill:#dd8452;stroke:#333333;\" x=\"250.427444\" xlink:href=\"#m0e7a20540f\" y=\"195.321128\"/>\n     <use style=\"fill:#dd8452;stroke:#333333;\" x=\"236.476095\" xlink:href=\"#m0e7a20540f\" y=\"201.620941\"/>\n     <use style=\"fill:#dd8452;stroke:#333333;\" x=\"246.368197\" xlink:href=\"#m0e7a20540f\" y=\"218.471307\"/>\n     <use style=\"fill:#dd8452;stroke:#333333;\" x=\"272.079389\" xlink:href=\"#m0e7a20540f\" y=\"206.287743\"/>\n     <use style=\"fill:#dd8452;stroke:#333333;\" x=\"258.236341\" xlink:href=\"#m0e7a20540f\" y=\"193.031188\"/>\n     <use style=\"fill:#dd8452;stroke:#333333;\" x=\"235.890807\" xlink:href=\"#m0e7a20540f\" y=\"183.714681\"/>\n     <use style=\"fill:#dd8452;stroke:#333333;\" x=\"103.837828\" xlink:href=\"#m0e7a20540f\" y=\"90.796063\"/>\n     <use style=\"fill:#dd8452;stroke:#333333;\" x=\"238.351712\" xlink:href=\"#m0e7a20540f\" y=\"194.423343\"/>\n     <use style=\"fill:#dd8452;stroke:#333333;\" x=\"137.345025\" xlink:href=\"#m0e7a20540f\" y=\"52.686675\"/>\n     <use style=\"fill:#dd8452;stroke:#333333;\" x=\"247.156711\" xlink:href=\"#m0e7a20540f\" y=\"192.128265\"/>\n     <use style=\"fill:#dd8452;stroke:#333333;\" x=\"106.629722\" xlink:href=\"#m0e7a20540f\" y=\"67.063555\"/>\n     <use style=\"fill:#dd8452;stroke:#333333;\" x=\"245.841013\" xlink:href=\"#m0e7a20540f\" y=\"213.069183\"/>\n     <use style=\"fill:#dd8452;stroke:#333333;\" x=\"258.436159\" xlink:href=\"#m0e7a20540f\" y=\"191.993241\"/>\n     <use style=\"fill:#dd8452;stroke:#333333;\" x=\"259.002838\" xlink:href=\"#m0e7a20540f\" y=\"205.762242\"/>\n     <use style=\"fill:#dd8452;stroke:#333333;\" x=\"239.026861\" xlink:href=\"#m0e7a20540f\" y=\"198.485572\"/>\n     <use style=\"fill:#dd8452;stroke:#333333;\" x=\"100.722163\" xlink:href=\"#m0e7a20540f\" y=\"78.235329\"/>\n     <use style=\"fill:#dd8452;stroke:#333333;\" x=\"236.754871\" xlink:href=\"#m0e7a20540f\" y=\"206.037168\"/>\n     <use style=\"fill:#dd8452;stroke:#333333;\" x=\"115.096861\" xlink:href=\"#m0e7a20540f\" y=\"54.382957\"/>\n     <use style=\"fill:#dd8452;stroke:#333333;\" x=\"225.526969\" xlink:href=\"#m0e7a20540f\" y=\"177.246606\"/>\n     <use style=\"fill:#dd8452;stroke:#333333;\" x=\"85.166683\" xlink:href=\"#m0e7a20540f\" y=\"62.096049\"/>\n     <use style=\"fill:#dd8452;stroke:#333333;\" x=\"233.809428\" xlink:href=\"#m0e7a20540f\" y=\"185.975144\"/>\n     <use style=\"fill:#dd8452;stroke:#333333;\" x=\"255.44039\" xlink:href=\"#m0e7a20540f\" y=\"212.161952\"/>\n     <use style=\"fill:#dd8452;stroke:#333333;\" x=\"257.406248\" xlink:href=\"#m0e7a20540f\" y=\"192.417404\"/>\n     <use style=\"fill:#dd8452;stroke:#333333;\" x=\"107.999367\" xlink:href=\"#m0e7a20540f\" y=\"61.116105\"/>\n     <use style=\"fill:#dd8452;stroke:#333333;\" x=\"123.018073\" xlink:href=\"#m0e7a20540f\" y=\"72.136818\"/>\n     <use style=\"fill:#dd8452;stroke:#333333;\" x=\"109.472594\" xlink:href=\"#m0e7a20540f\" y=\"48.2166\"/>\n     <use style=\"fill:#dd8452;stroke:#333333;\" x=\"105.261565\" xlink:href=\"#m0e7a20540f\" y=\"87.264254\"/>\n     <use style=\"fill:#dd8452;stroke:#333333;\" x=\"250.623256\" xlink:href=\"#m0e7a20540f\" y=\"218.064087\"/>\n     <use style=\"fill:#dd8452;stroke:#333333;\" x=\"212.836364\" xlink:href=\"#m0e7a20540f\" y=\"225.238712\"/>\n     <use style=\"fill:#dd8452;stroke:#333333;\" x=\"104.399027\" xlink:href=\"#m0e7a20540f\" y=\"51.978476\"/>\n     <use style=\"fill:#dd8452;stroke:#333333;\" x=\"102.0482\" xlink:href=\"#m0e7a20540f\" y=\"71.937685\"/>\n     <use style=\"fill:#dd8452;stroke:#333333;\" x=\"253.883974\" xlink:href=\"#m0e7a20540f\" y=\"208.516853\"/>\n     <use style=\"fill:#dd8452;stroke:#333333;\" x=\"225.578377\" xlink:href=\"#m0e7a20540f\" y=\"191.40039\"/>\n     <use style=\"fill:#dd8452;stroke:#333333;\" x=\"240.869888\" xlink:href=\"#m0e7a20540f\" y=\"182.322608\"/>\n     <use style=\"fill:#dd8452;stroke:#333333;\" x=\"263.886024\" xlink:href=\"#m0e7a20540f\" y=\"197.968866\"/>\n     <use style=\"fill:#dd8452;stroke:#333333;\" x=\"119.504391\" xlink:href=\"#m0e7a20540f\" y=\"61.230427\"/>\n     <use style=\"fill:#dd8452;stroke:#333333;\" x=\"129.89094\" xlink:href=\"#m0e7a20540f\" y=\"62.459417\"/>\n    </g>\n   </g>\n   <g id=\"patch_3\">\n    <path d=\"M 59.024844 239.758125 \nL 59.024844 22.318125 \n\" style=\"fill:none;stroke:#ffffff;stroke-linecap:square;stroke-linejoin:miter;stroke-width:1.25;\"/>\n   </g>\n   <g id=\"patch_4\">\n    <path d=\"M 282.224844 239.758125 \nL 282.224844 22.318125 \n\" style=\"fill:none;stroke:#ffffff;stroke-linecap:square;stroke-linejoin:miter;stroke-width:1.25;\"/>\n   </g>\n   <g id=\"patch_5\">\n    <path d=\"M 59.024844 239.758125 \nL 282.224844 239.758125 \n\" style=\"fill:none;stroke:#ffffff;stroke-linecap:square;stroke-linejoin:miter;stroke-width:1.25;\"/>\n   </g>\n   <g id=\"patch_6\">\n    <path d=\"M 59.024844 22.318125 \nL 282.224844 22.318125 \n\" style=\"fill:none;stroke:#ffffff;stroke-linecap:square;stroke-linejoin:miter;stroke-width:1.25;\"/>\n   </g>\n   <g id=\"text_14\">\n    <!-- Dataset samples -->\n    <defs>\n     <path d=\"M 19.671875 64.796875 \nL 19.671875 8.109375 \nL 31.59375 8.109375 \nQ 46.6875 8.109375 53.6875 14.9375 \nQ 60.6875 21.78125 60.6875 36.53125 \nQ 60.6875 51.171875 53.6875 57.984375 \nQ 46.6875 64.796875 31.59375 64.796875 \nz\nM 9.8125 72.90625 \nL 30.078125 72.90625 \nQ 51.265625 72.90625 61.171875 64.09375 \nQ 71.09375 55.28125 71.09375 36.53125 \nQ 71.09375 17.671875 61.125 8.828125 \nQ 51.171875 0 30.078125 0 \nL 9.8125 0 \nz\n\" id=\"DejaVuSans-68\"/>\n     <path d=\"M 34.28125 27.484375 \nQ 23.390625 27.484375 19.1875 25 \nQ 14.984375 22.515625 14.984375 16.5 \nQ 14.984375 11.71875 18.140625 8.90625 \nQ 21.296875 6.109375 26.703125 6.109375 \nQ 34.1875 6.109375 38.703125 11.40625 \nQ 43.21875 16.703125 43.21875 25.484375 \nL 43.21875 27.484375 \nz\nM 52.203125 31.203125 \nL 52.203125 0 \nL 43.21875 0 \nL 43.21875 8.296875 \nQ 40.140625 3.328125 35.546875 0.953125 \nQ 30.953125 -1.421875 24.3125 -1.421875 \nQ 15.921875 -1.421875 10.953125 3.296875 \nQ 6 8.015625 6 15.921875 \nQ 6 25.140625 12.171875 29.828125 \nQ 18.359375 34.515625 30.609375 34.515625 \nL 43.21875 34.515625 \nL 43.21875 35.40625 \nQ 43.21875 41.609375 39.140625 45 \nQ 35.0625 48.390625 27.6875 48.390625 \nQ 23 48.390625 18.546875 47.265625 \nQ 14.109375 46.140625 10.015625 43.890625 \nL 10.015625 52.203125 \nQ 14.9375 54.109375 19.578125 55.046875 \nQ 24.21875 56 28.609375 56 \nQ 40.484375 56 46.34375 49.84375 \nQ 52.203125 43.703125 52.203125 31.203125 \nz\n\" id=\"DejaVuSans-97\"/>\n     <path d=\"M 18.3125 70.21875 \nL 18.3125 54.6875 \nL 36.8125 54.6875 \nL 36.8125 47.703125 \nL 18.3125 47.703125 \nL 18.3125 18.015625 \nQ 18.3125 11.328125 20.140625 9.421875 \nQ 21.96875 7.515625 27.59375 7.515625 \nL 36.8125 7.515625 \nL 36.8125 0 \nL 27.59375 0 \nQ 17.1875 0 13.234375 3.875 \nQ 9.28125 7.765625 9.28125 18.015625 \nL 9.28125 47.703125 \nL 2.6875 47.703125 \nL 2.6875 54.6875 \nL 9.28125 54.6875 \nL 9.28125 70.21875 \nz\n\" id=\"DejaVuSans-116\"/>\n     <path d=\"M 44.28125 53.078125 \nL 44.28125 44.578125 \nQ 40.484375 46.53125 36.375 47.5 \nQ 32.28125 48.484375 27.875 48.484375 \nQ 21.1875 48.484375 17.84375 46.4375 \nQ 14.5 44.390625 14.5 40.28125 \nQ 14.5 37.15625 16.890625 35.375 \nQ 19.28125 33.59375 26.515625 31.984375 \nL 29.59375 31.296875 \nQ 39.15625 29.25 43.1875 25.515625 \nQ 47.21875 21.78125 47.21875 15.09375 \nQ 47.21875 7.46875 41.1875 3.015625 \nQ 35.15625 -1.421875 24.609375 -1.421875 \nQ 20.21875 -1.421875 15.453125 -0.5625 \nQ 10.6875 0.296875 5.421875 2 \nL 5.421875 11.28125 \nQ 10.40625 8.6875 15.234375 7.390625 \nQ 20.0625 6.109375 24.8125 6.109375 \nQ 31.15625 6.109375 34.5625 8.28125 \nQ 37.984375 10.453125 37.984375 14.40625 \nQ 37.984375 18.0625 35.515625 20.015625 \nQ 33.0625 21.96875 24.703125 23.78125 \nL 21.578125 24.515625 \nQ 13.234375 26.265625 9.515625 29.90625 \nQ 5.8125 33.546875 5.8125 39.890625 \nQ 5.8125 47.609375 11.28125 51.796875 \nQ 16.75 56 26.8125 56 \nQ 31.78125 56 36.171875 55.265625 \nQ 40.578125 54.546875 44.28125 53.078125 \nz\n\" id=\"DejaVuSans-115\"/>\n     <path d=\"M 56.203125 29.59375 \nL 56.203125 25.203125 \nL 14.890625 25.203125 \nQ 15.484375 15.921875 20.484375 11.0625 \nQ 25.484375 6.203125 34.421875 6.203125 \nQ 39.59375 6.203125 44.453125 7.46875 \nQ 49.3125 8.734375 54.109375 11.28125 \nL 54.109375 2.78125 \nQ 49.265625 0.734375 44.1875 -0.34375 \nQ 39.109375 -1.421875 33.890625 -1.421875 \nQ 20.796875 -1.421875 13.15625 6.1875 \nQ 5.515625 13.8125 5.515625 26.8125 \nQ 5.515625 40.234375 12.765625 48.109375 \nQ 20.015625 56 32.328125 56 \nQ 43.359375 56 49.78125 48.890625 \nQ 56.203125 41.796875 56.203125 29.59375 \nz\nM 47.21875 32.234375 \nQ 47.125 39.59375 43.09375 43.984375 \nQ 39.0625 48.390625 32.421875 48.390625 \nQ 24.90625 48.390625 20.390625 44.140625 \nQ 15.875 39.890625 15.1875 32.171875 \nz\n\" id=\"DejaVuSans-101\"/>\n     <path id=\"DejaVuSans-32\"/>\n     <path d=\"M 52 44.1875 \nQ 55.375 50.25 60.0625 53.125 \nQ 64.75 56 71.09375 56 \nQ 79.640625 56 84.28125 50.015625 \nQ 88.921875 44.046875 88.921875 33.015625 \nL 88.921875 0 \nL 79.890625 0 \nL 79.890625 32.71875 \nQ 79.890625 40.578125 77.09375 44.375 \nQ 74.3125 48.1875 68.609375 48.1875 \nQ 61.625 48.1875 57.5625 43.546875 \nQ 53.515625 38.921875 53.515625 30.90625 \nL 53.515625 0 \nL 44.484375 0 \nL 44.484375 32.71875 \nQ 44.484375 40.625 41.703125 44.40625 \nQ 38.921875 48.1875 33.109375 48.1875 \nQ 26.21875 48.1875 22.15625 43.53125 \nQ 18.109375 38.875 18.109375 30.90625 \nL 18.109375 0 \nL 9.078125 0 \nL 9.078125 54.6875 \nL 18.109375 54.6875 \nL 18.109375 46.1875 \nQ 21.1875 51.21875 25.484375 53.609375 \nQ 29.78125 56 35.6875 56 \nQ 41.65625 56 45.828125 52.96875 \nQ 50 49.953125 52 44.1875 \nz\n\" id=\"DejaVuSans-109\"/>\n     <path d=\"M 18.109375 8.203125 \nL 18.109375 -20.796875 \nL 9.078125 -20.796875 \nL 9.078125 54.6875 \nL 18.109375 54.6875 \nL 18.109375 46.390625 \nQ 20.953125 51.265625 25.265625 53.625 \nQ 29.59375 56 35.59375 56 \nQ 45.5625 56 51.78125 48.09375 \nQ 58.015625 40.1875 58.015625 27.296875 \nQ 58.015625 14.40625 51.78125 6.484375 \nQ 45.5625 -1.421875 35.59375 -1.421875 \nQ 29.59375 -1.421875 25.265625 0.953125 \nQ 20.953125 3.328125 18.109375 8.203125 \nz\nM 48.6875 27.296875 \nQ 48.6875 37.203125 44.609375 42.84375 \nQ 40.53125 48.484375 33.40625 48.484375 \nQ 26.265625 48.484375 22.1875 42.84375 \nQ 18.109375 37.203125 18.109375 27.296875 \nQ 18.109375 17.390625 22.1875 11.75 \nQ 26.265625 6.109375 33.40625 6.109375 \nQ 40.53125 6.109375 44.609375 11.75 \nQ 48.6875 17.390625 48.6875 27.296875 \nz\n\" id=\"DejaVuSans-112\"/>\n     <path d=\"M 9.421875 75.984375 \nL 18.40625 75.984375 \nL 18.40625 0 \nL 9.421875 0 \nz\n\" id=\"DejaVuSans-108\"/>\n    </defs>\n    <g style=\"fill:#262626;\" transform=\"translate(120.282031 16.318125)scale(0.12 -0.12)\">\n     <use xlink:href=\"#DejaVuSans-68\"/>\n     <use x=\"77.001953\" xlink:href=\"#DejaVuSans-97\"/>\n     <use x=\"138.28125\" xlink:href=\"#DejaVuSans-116\"/>\n     <use x=\"177.490234\" xlink:href=\"#DejaVuSans-97\"/>\n     <use x=\"238.769531\" xlink:href=\"#DejaVuSans-115\"/>\n     <use x=\"290.869141\" xlink:href=\"#DejaVuSans-101\"/>\n     <use x=\"352.392578\" xlink:href=\"#DejaVuSans-116\"/>\n     <use x=\"391.601562\" xlink:href=\"#DejaVuSans-32\"/>\n     <use x=\"423.388672\" xlink:href=\"#DejaVuSans-115\"/>\n     <use x=\"475.488281\" xlink:href=\"#DejaVuSans-97\"/>\n     <use x=\"536.767578\" xlink:href=\"#DejaVuSans-109\"/>\n     <use x=\"634.179688\" xlink:href=\"#DejaVuSans-112\"/>\n     <use x=\"697.65625\" xlink:href=\"#DejaVuSans-108\"/>\n     <use x=\"725.439453\" xlink:href=\"#DejaVuSans-101\"/>\n     <use x=\"786.962891\" xlink:href=\"#DejaVuSans-115\"/>\n    </g>\n   </g>\n   <g id=\"legend_1\">\n    <g id=\"patch_7\">\n     <path d=\"M 199.891562 148.834063 \nL 274.524844 148.834063 \nQ 276.724844 148.834063 276.724844 146.634063 \nL 276.724844 115.442187 \nQ 276.724844 113.242188 274.524844 113.242188 \nL 199.891562 113.242188 \nQ 197.691562 113.242188 197.691562 115.442187 \nL 197.691562 146.634063 \nQ 197.691562 148.834063 199.891562 148.834063 \nz\n\" style=\"fill:#eaeaf2;opacity:0.8;stroke:#cccccc;stroke-linejoin:miter;\"/>\n    </g>\n    <g id=\"PathCollection_3\">\n     <g>\n      <use style=\"fill:#4c72b0;stroke:#333333;\" x=\"213.091562\" xlink:href=\"#m83c34e16e8\" y=\"123.112969\"/>\n     </g>\n    </g>\n    <g id=\"text_15\">\n     <!-- Class 0 -->\n     <defs>\n      <path d=\"M 64.40625 67.28125 \nL 64.40625 56.890625 \nQ 59.421875 61.53125 53.78125 63.8125 \nQ 48.140625 66.109375 41.796875 66.109375 \nQ 29.296875 66.109375 22.65625 58.46875 \nQ 16.015625 50.828125 16.015625 36.375 \nQ 16.015625 21.96875 22.65625 14.328125 \nQ 29.296875 6.6875 41.796875 6.6875 \nQ 48.140625 6.6875 53.78125 8.984375 \nQ 59.421875 11.28125 64.40625 15.921875 \nL 64.40625 5.609375 \nQ 59.234375 2.09375 53.4375 0.328125 \nQ 47.65625 -1.421875 41.21875 -1.421875 \nQ 24.65625 -1.421875 15.125 8.703125 \nQ 5.609375 18.84375 5.609375 36.375 \nQ 5.609375 53.953125 15.125 64.078125 \nQ 24.65625 74.21875 41.21875 74.21875 \nQ 47.75 74.21875 53.53125 72.484375 \nQ 59.328125 70.75 64.40625 67.28125 \nz\n\" id=\"DejaVuSans-67\"/>\n     </defs>\n     <g style=\"fill:#262626;\" transform=\"translate(232.891562 126.000469)scale(0.11 -0.11)\">\n      <use xlink:href=\"#DejaVuSans-67\"/>\n      <use x=\"69.824219\" xlink:href=\"#DejaVuSans-108\"/>\n      <use x=\"97.607422\" xlink:href=\"#DejaVuSans-97\"/>\n      <use x=\"158.886719\" xlink:href=\"#DejaVuSans-115\"/>\n      <use x=\"210.986328\" xlink:href=\"#DejaVuSans-115\"/>\n      <use x=\"263.085938\" xlink:href=\"#DejaVuSans-32\"/>\n      <use x=\"294.873047\" xlink:href=\"#DejaVuSans-48\"/>\n     </g>\n    </g>\n    <g id=\"PathCollection_4\">\n     <g>\n      <use style=\"fill:#dd8452;stroke:#333333;\" x=\"213.091562\" xlink:href=\"#m0e7a20540f\" y=\"139.258906\"/>\n     </g>\n    </g>\n    <g id=\"text_16\">\n     <!-- Class 1 -->\n     <g style=\"fill:#262626;\" transform=\"translate(232.891562 142.146406)scale(0.11 -0.11)\">\n      <use xlink:href=\"#DejaVuSans-67\"/>\n      <use x=\"69.824219\" xlink:href=\"#DejaVuSans-108\"/>\n      <use x=\"97.607422\" xlink:href=\"#DejaVuSans-97\"/>\n      <use x=\"158.886719\" xlink:href=\"#DejaVuSans-115\"/>\n      <use x=\"210.986328\" xlink:href=\"#DejaVuSans-115\"/>\n      <use x=\"263.085938\" xlink:href=\"#DejaVuSans-32\"/>\n      <use x=\"294.873047\" xlink:href=\"#DejaVuSans-49\"/>\n     </g>\n    </g>\n   </g>\n  </g>\n </g>\n <defs>\n  <clipPath id=\"p5a06f54070\">\n   <rect height=\"217.44\" width=\"223.2\" x=\"59.024844\" y=\"22.318125\"/>\n  </clipPath>\n </defs>\n</svg>\n",
            "application/pdf": "[encoded data removed]"
          },
          "metadata": {}
        }
      ],
      "source": [
        "import matplotlib.pyplot as plt\n",
        "\n",
        "visualize_samples(dataset.data, dataset.label)\n",
        "plt.show()"
      ]
    },
    {
      "cell_type": "markdown",
      "metadata": {
        "id": "BFSGyh6hXRW7"
      },
      "source": [
        "#### The data loader class\n",
        "\n",
        "The class `torch.utils.data.DataLoader` represents a Python iterable over a dataset with support for automatic batching, multi-process data loading and many more features. The data loader communicates with the dataset using the function `__getitem__`, and stacks its outputs as tensors over the first dimension to form a batch.\n",
        "In contrast to the dataset class, we usually don't have to define our own data loader class, but can just create an object of it with the dataset as input. Additionally, we can configure our data loader with the following input arguments (only a selection, see full list [here](https://pytorch.org/docs/stable/data.html#torch.utils.data.DataLoader)):\n",
        "\n",
        "* `batch_size`: Number of samples to stack per batch\n",
        "* `shuffle`: If True, the data is returned in a random order. This is important during training for introducing stochasticity. \n",
        "* `num_workers`: Number of subprocesses to use for data loading. The default, 0, means that the data will be loaded in the main process which can slow down training for datasets where loading a data point takes a considerable amount of time (e.g. large images). More workers are recommended for those, but can cause issues on Windows computers. For tiny datasets as ours, 0 workers are usually faster.\n",
        "* `pin_memory`: If True, the data loader will copy Tensors into CUDA pinned memory before returning them. This can save some time for large data points on GPUs. Usually a good practice to use for a training set, but not necessarily for validation and test to save memory on the GPU.\n",
        "* `drop_last`: If True, the last batch is dropped in case it is smaller than the specified batch size. This occurs when the dataset size is not a multiple of the batch size. Only potentially helpful during training to keep a consistent batch size.\n",
        "\n",
        "Let's create a simple data loader below:"
      ]
    },
    {
      "cell_type": "code",
      "execution_count": null,
      "metadata": {
        "id": "n56RWv_nXRW7",
        "colab": {
          "base_uri": "https://localhost:8080/"
        },
        "outputId": "4a03f546-a464-4db0-844d-dd5f0c0a0295"
      },
      "outputs": [
        {
          "output_type": "stream",
          "name": "stderr",
          "text": [
            "/usr/local/lib/python3.7/dist-packages/torch/utils/data/dataloader.py:566: UserWarning: This DataLoader will create 4 worker processes in total. Our suggested max number of worker in current system is 2, which is smaller than what this DataLoader is going to create. Please be aware that excessive worker creation might get DataLoader running slow or even freeze, lower the worker number to avoid potential slowness/freeze if necessary.\n",
            "  cpuset_checked))\n"
          ]
        }
      ],
      "source": [
        "# create a data loader\n",
        "data_loader = torch.utils.data.DataLoader(dataset, batch_size=1, shuffle=True,   # important parameters: batch_size\n",
        "                                         num_workers=4, pin_memory=True)    # num_workers affect data loading speed, ideally pin_memory should alway be true"
      ]
    },
    {
      "cell_type": "code",
      "execution_count": null,
      "metadata": {
        "id": "CCCeb4--XRW7",
        "outputId": "9f339fd9-8619-41d8-82db-6a6b2c102e89",
        "colab": {
          "base_uri": "https://localhost:8080/"
        }
      },
      "outputs": [
        {
          "output_type": "stream",
          "name": "stdout",
          "text": [
            "Data inputs torch.Size([1, 2]) \n",
            " tensor([[1.0954, 0.0213]])\n",
            "Data labels torch.Size([1]) \n",
            " tensor([1], dtype=torch.int32)\n"
          ]
        },
        {
          "output_type": "stream",
          "name": "stderr",
          "text": [
            "Traceback (most recent call last):\n",
            "  File \"/usr/lib/python3.7/multiprocessing/queues.py\", line 242, in _feed\n",
            "    send_bytes(obj)\n",
            "  File \"/usr/lib/python3.7/multiprocessing/connection.py\", line 200, in send_bytes\n",
            "    self._send_bytes(m[offset:offset + size])\n",
            "  File \"/usr/lib/python3.7/multiprocessing/connection.py\", line 404, in _send_bytes\n",
            "    self._send(header + buf)\n",
            "  File \"/usr/lib/python3.7/multiprocessing/connection.py\", line 368, in _send\n",
            "    n = write(self._handle, buf)\n",
            "BrokenPipeError: [Errno 32] Broken pipe\n"
          ]
        }
      ],
      "source": [
        "# next(iter(...)) catches the first batch of the data loader\n",
        "# If shuffle is True, this will return a different batch every time we run this cell\n",
        "# For iterating over the whole dataset, we can simple use \"for batch in data_loader: ...\"\n",
        "data_inputs, data_labels = next(iter(data_loader))\n",
        "\n",
        "# The shape of the outputs are [batch_size, d_1,...,d_N] where d_1,...,d_N are the \n",
        "# dimensions of the data point returned from the dataset class\n",
        "print(\"Data inputs\", data_inputs.shape, \"\\n\", data_inputs)\n",
        "print(\"Data labels\", data_labels.shape, \"\\n\", data_labels)\n",
        "\n",
        "# the error message broken pipe doesn't matter for now, as this example is just\n",
        "# for illustrative purpopse. later we will learn to use data_loader \n",
        "# in the \"correct\" way"
      ]
    },
    {
      "cell_type": "markdown",
      "source": [
        "#Session Credits\n",
        "TA Pranavan and TA Ai Bo with the support of Prof Min and Brian\n",
        "\n"
      ],
      "metadata": {
        "id": "899xfhXYKkDl"
      }
    }
  ]
}